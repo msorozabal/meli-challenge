{
  "cells": [
    {
      "cell_type": "markdown",
      "metadata": {
        "id": "UTL7wzllG4bB"
      },
      "source": [
        "### Read Dataset"
      ]
    },
    {
      "cell_type": "code",
      "execution_count": 1,
      "metadata": {
        "colab": {
          "base_uri": "https://localhost:8080/"
        },
        "id": "Jqd9zs8aKUcC",
        "outputId": "878abaa3-e649-495a-b15d-fb06ffa8d9e7"
      },
      "outputs": [
        {
          "output_type": "stream",
          "name": "stdout",
          "text": [
            "Archive:  MLA_100k_checked_v3.jsonlines.zip\n",
            "  inflating: MLA_100k_checked_v3.jsonlines  \n",
            "  inflating: __MACOSX/._MLA_100k_checked_v3.jsonlines  \n"
          ]
        }
      ],
      "source": [
        "!unzip MLA_100k_checked_v3.jsonlines.zip"
      ]
    },
    {
      "cell_type": "code",
      "execution_count": 2,
      "metadata": {
        "colab": {
          "base_uri": "https://localhost:8080/"
        },
        "id": "GxDo-hUfjgFO",
        "outputId": "2d1d7639-c172-4eb6-8704-4e73de6e4add"
      },
      "outputs": [
        {
          "output_type": "stream",
          "name": "stdout",
          "text": [
            "Looking in indexes: https://pypi.org/simple, https://us-python.pkg.dev/colab-wheels/public/simple/\n",
            "Collecting catboost\n",
            "  Downloading catboost-1.0.6-cp37-none-manylinux1_x86_64.whl (76.6 MB)\n",
            "\u001b[K     |████████████████████████████████| 76.6 MB 1.2 MB/s \n",
            "\u001b[?25hRequirement already satisfied: six in /usr/local/lib/python3.7/dist-packages (from catboost) (1.15.0)\n",
            "Requirement already satisfied: pandas>=0.24.0 in /usr/local/lib/python3.7/dist-packages (from catboost) (1.3.5)\n",
            "Requirement already satisfied: scipy in /usr/local/lib/python3.7/dist-packages (from catboost) (1.4.1)\n",
            "Requirement already satisfied: numpy>=1.16.0 in /usr/local/lib/python3.7/dist-packages (from catboost) (1.21.6)\n",
            "Requirement already satisfied: matplotlib in /usr/local/lib/python3.7/dist-packages (from catboost) (3.2.2)\n",
            "Requirement already satisfied: graphviz in /usr/local/lib/python3.7/dist-packages (from catboost) (0.10.1)\n",
            "Requirement already satisfied: plotly in /usr/local/lib/python3.7/dist-packages (from catboost) (5.5.0)\n",
            "Requirement already satisfied: python-dateutil>=2.7.3 in /usr/local/lib/python3.7/dist-packages (from pandas>=0.24.0->catboost) (2.8.2)\n",
            "Requirement already satisfied: pytz>=2017.3 in /usr/local/lib/python3.7/dist-packages (from pandas>=0.24.0->catboost) (2022.1)\n",
            "Requirement already satisfied: kiwisolver>=1.0.1 in /usr/local/lib/python3.7/dist-packages (from matplotlib->catboost) (1.4.3)\n",
            "Requirement already satisfied: cycler>=0.10 in /usr/local/lib/python3.7/dist-packages (from matplotlib->catboost) (0.11.0)\n",
            "Requirement already satisfied: pyparsing!=2.0.4,!=2.1.2,!=2.1.6,>=2.0.1 in /usr/local/lib/python3.7/dist-packages (from matplotlib->catboost) (3.0.9)\n",
            "Requirement already satisfied: typing-extensions in /usr/local/lib/python3.7/dist-packages (from kiwisolver>=1.0.1->matplotlib->catboost) (4.1.1)\n",
            "Requirement already satisfied: tenacity>=6.2.0 in /usr/local/lib/python3.7/dist-packages (from plotly->catboost) (8.0.1)\n",
            "Installing collected packages: catboost\n",
            "Successfully installed catboost-1.0.6\n"
          ]
        }
      ],
      "source": [
        "!pip install catboost"
      ]
    },
    {
      "cell_type": "code",
      "execution_count": 2,
      "metadata": {
        "id": "Clf7ExbBGpfG"
      },
      "outputs": [],
      "source": [
        "import json\n",
        "import pandas as pd\n",
        "import numpy as np\n",
        "\n",
        "import matplotlib.pyplot as plt\n",
        "import seaborn as sns\n",
        "\n",
        "from sklearn.preprocessing import StandardScaler\n",
        "from sklearn.model_selection import GridSearchCV, train_test_split\n",
        "from sklearn.metrics import balanced_accuracy_score, recall_score, precision_score, f1_score, accuracy_score\n",
        "from sklearn.metrics import precision_recall_curve, average_precision_score, confusion_matrix\n",
        "from sklearn.metrics import roc_curve, roc_auc_score, RocCurveDisplay\n",
        "\n",
        "from catboost import CatBoostClassifier\n",
        "from sklearn import metrics\n",
        "\n",
        "\n",
        "# You can safely assume that `build_dataset` is correctly implemented\n",
        "def build_dataset():\n",
        "    data = [json.loads(x) for x in open(\"MLA_100k_checked_v3.jsonlines\")]\n",
        "    target = lambda x: x.get(\"condition\")\n",
        "    N = -10000\n",
        "    X_train = data[:N]\n",
        "    X_test = data[N:]\n",
        "    y_train = [target(x) for x in X_train]\n",
        "    y_test = [target(x) for x in X_test]\n",
        "    for x in X_test:\n",
        "        del x[\"condition\"]\n",
        "    return X_train, y_train, X_test, y_test"
      ]
    },
    {
      "cell_type": "code",
      "execution_count": 3,
      "metadata": {
        "id": "YxeuWgVPGzod"
      },
      "outputs": [],
      "source": [
        "X_train, y_train, X_test, y_test = build_dataset()"
      ]
    },
    {
      "cell_type": "code",
      "execution_count": 4,
      "metadata": {
        "colab": {
          "base_uri": "https://localhost:8080/"
        },
        "id": "MgGpwmQzyBOR",
        "outputId": "a76535c1-d891-41a1-eeb8-ee8e8f98760a"
      },
      "outputs": [
        {
          "output_type": "execute_result",
          "data": {
            "text/plain": [
              "{'accepts_mercadopago': True,\n",
              " 'attributes': [],\n",
              " 'automatic_relist': False,\n",
              " 'available_quantity': 1,\n",
              " 'base_price': 80.0,\n",
              " 'buying_mode': 'buy_it_now',\n",
              " 'catalog_product_id': None,\n",
              " 'category_id': 'MLA126406',\n",
              " 'condition': 'new',\n",
              " 'coverage_areas': [],\n",
              " 'currency_id': 'ARS',\n",
              " 'date_created': '2015-09-05T20:42:53.000Z',\n",
              " 'deal_ids': [],\n",
              " 'descriptions': [\"{'id': 'MLA4695330653-912855983'}\"],\n",
              " 'differential_pricing': None,\n",
              " 'id': 'MLA4695330653',\n",
              " 'initial_quantity': 1,\n",
              " 'international_delivery_mode': 'none',\n",
              " 'last_updated': '2015-09-05T20:42:58.000Z',\n",
              " 'listing_source': '',\n",
              " 'listing_type_id': 'bronze',\n",
              " 'non_mercado_pago_payment_methods': [{'description': 'Transferencia bancaria',\n",
              "   'id': 'MLATB',\n",
              "   'type': 'G'},\n",
              "  {'description': 'Acordar con el comprador', 'id': 'MLAWC', 'type': 'G'},\n",
              "  {'description': 'Efectivo', 'id': 'MLAMO', 'type': 'G'}],\n",
              " 'official_store_id': None,\n",
              " 'original_price': None,\n",
              " 'parent_item_id': 'MLA6553902747',\n",
              " 'permalink': 'http://articulo.mercadolibre.com.ar/MLA4695330653-auriculares-samsung-originales-manos-libres-cable-usb-oferta-_JM',\n",
              " 'pictures': [{'id': '5386-MLA4695330653_052013',\n",
              "   'max_size': '1200x900',\n",
              "   'quality': '',\n",
              "   'secure_url': 'https://a248.e.akamai.net/mla-s1-p.mlstatic.com/5386-MLA4695330653_052013-O.jpg',\n",
              "   'size': '500x375',\n",
              "   'url': 'http://mla-s1-p.mlstatic.com/5386-MLA4695330653_052013-O.jpg'},\n",
              "  {'id': '5361-MLA4695330653_052013',\n",
              "   'max_size': '1200x900',\n",
              "   'quality': '',\n",
              "   'secure_url': 'https://a248.e.akamai.net/mla-s1-p.mlstatic.com/5361-MLA4695330653_052013-O.jpg',\n",
              "   'size': '500x375',\n",
              "   'url': 'http://mla-s1-p.mlstatic.com/5361-MLA4695330653_052013-O.jpg'}],\n",
              " 'price': 80.0,\n",
              " 'secure_thumbnail': 'https://a248.e.akamai.net/mla-s1-p.mlstatic.com/5386-MLA4695330653_052013-I.jpg',\n",
              " 'seller_address': {'city': {'id': 'TUxBQlNBTjkwNTZa',\n",
              "   'name': 'San Cristóbal'},\n",
              "  'country': {'id': 'AR', 'name': 'Argentina'},\n",
              "  'state': {'id': 'AR-C', 'name': 'Capital Federal'}},\n",
              " 'seller_id': 8208882349,\n",
              " 'shipping': {'dimensions': None,\n",
              "  'free_shipping': False,\n",
              "  'local_pick_up': True,\n",
              "  'methods': [],\n",
              "  'mode': 'not_specified',\n",
              "  'tags': []},\n",
              " 'site_id': 'MLA',\n",
              " 'sold_quantity': 0,\n",
              " 'start_time': 1441485773000,\n",
              " 'status': 'active',\n",
              " 'stop_time': 1446669773000,\n",
              " 'sub_status': [],\n",
              " 'subtitle': None,\n",
              " 'tags': ['dragged_bids_and_visits'],\n",
              " 'thumbnail': 'http://mla-s1-p.mlstatic.com/5386-MLA4695330653_052013-I.jpg',\n",
              " 'title': 'Auriculares Samsung Originales Manos Libres Cable Usb Oferta',\n",
              " 'variations': [],\n",
              " 'video_id': None,\n",
              " 'warranty': None}"
            ]
          },
          "metadata": {},
          "execution_count": 4
        }
      ],
      "source": [
        "X_train[0]"
      ]
    },
    {
      "cell_type": "code",
      "execution_count": 5,
      "metadata": {
        "colab": {
          "base_uri": "https://localhost:8080/"
        },
        "id": "h854pu5sp_rl",
        "outputId": "47b4e0e0-d972-471c-b2c5-d80583304ba3"
      },
      "outputs": [
        {
          "output_type": "stream",
          "name": "stdout",
          "text": [
            "X_train shape (90000, 56)\n",
            "X_test shape (10000, 55)\n"
          ]
        }
      ],
      "source": [
        "# first we parse the json in a nested dataframe, to convert dicts into new colums i.e -> seller_address TRANSFORM INTO seller_address_city, seller_address_country_name, etc.. \n",
        "\n",
        "from pandas.io.json._normalize import nested_to_record    \n",
        "\n",
        "flat_Train = nested_to_record(X_train, sep='_')\n",
        "X_train = pd.DataFrame(flat_Train)\n",
        "print(f'X_train shape {X_train.shape}')\n",
        "\n",
        "\n",
        "flat_Test = nested_to_record(X_test, sep='_')\n",
        "X_test = pd.DataFrame(flat_Test)\n",
        "print(f'X_test shape {X_test.shape}')\n"
      ]
    },
    {
      "cell_type": "code",
      "execution_count": 6,
      "metadata": {
        "colab": {
          "base_uri": "https://localhost:8080/",
          "height": 1000
        },
        "id": "6CTnOe5cykWZ",
        "outputId": "b7554ddf-fc0a-4090-c37f-96e69041dc88"
      },
      "outputs": [
        {
          "output_type": "execute_result",
          "data": {
            "text/plain": [
              "                                                                                  0\n",
              "warranty                                                                       None\n",
              "sub_status                                                                       []\n",
              "condition                                                                       new\n",
              "deal_ids                                                                         []\n",
              "base_price                                                                     80.0\n",
              "non_mercado_pago_payment_methods  [{'description': 'Transferencia bancaria', 'id...\n",
              "seller_id                                                                8208882349\n",
              "variations                                                                       []\n",
              "site_id                                                                         MLA\n",
              "listing_type_id                                                              bronze\n",
              "price                                                                          80.0\n",
              "attributes                                                                       []\n",
              "buying_mode                                                              buy_it_now\n",
              "tags                                                      [dragged_bids_and_visits]\n",
              "listing_source                                                                     \n",
              "parent_item_id                                                        MLA6553902747\n",
              "coverage_areas                                                                   []\n",
              "category_id                                                               MLA126406\n",
              "descriptions                                    [{'id': 'MLA4695330653-912855983'}]\n",
              "last_updated                                               2015-09-05T20:42:58.000Z\n",
              "international_delivery_mode                                                    none\n",
              "pictures                          [{'size': '500x375', 'secure_url': 'https://a2...\n",
              "id                                                                    MLA4695330653\n",
              "official_store_id                                                               NaN\n",
              "differential_pricing                                                           None\n",
              "accepts_mercadopago                                                            True\n",
              "original_price                                                                  NaN\n",
              "currency_id                                                                     ARS\n",
              "thumbnail                         http://mla-s1-p.mlstatic.com/5386-MLA469533065...\n",
              "title                             Auriculares Samsung Originales Manos Libres Ca...\n",
              "automatic_relist                                                              False\n",
              "date_created                                               2015-09-05T20:42:53.000Z\n",
              "secure_thumbnail                  https://a248.e.akamai.net/mla-s1-p.mlstatic.co...\n",
              "stop_time                                                             1446669773000\n",
              "status                                                                       active\n",
              "video_id                                                                       None\n",
              "catalog_product_id                                                              NaN\n",
              "subtitle                                                                       None\n",
              "initial_quantity                                                                  1\n",
              "start_time                                                            1441485773000\n",
              "permalink                         http://articulo.mercadolibre.com.ar/MLA4695330...\n",
              "sold_quantity                                                                     0\n",
              "available_quantity                                                                1\n",
              "seller_address_country_name                                               Argentina\n",
              "seller_address_country_id                                                        AR\n",
              "seller_address_state_name                                           Capital Federal\n",
              "seller_address_state_id                                                        AR-C\n",
              "seller_address_city_name                                              San Cristóbal\n",
              "seller_address_city_id                                             TUxBQlNBTjkwNTZa\n",
              "shipping_local_pick_up                                                         True\n",
              "shipping_methods                                                                 []\n",
              "shipping_tags                                                                    []\n",
              "shipping_free_shipping                                                        False\n",
              "shipping_mode                                                         not_specified\n",
              "shipping_dimensions                                                            None\n",
              "shipping_free_methods                                                           NaN"
            ],
            "text/html": [
              "\n",
              "  <div id=\"df-7889e336-8d76-43eb-94f9-a7384cb97343\">\n",
              "    <div class=\"colab-df-container\">\n",
              "      <div>\n",
              "<style scoped>\n",
              "    .dataframe tbody tr th:only-of-type {\n",
              "        vertical-align: middle;\n",
              "    }\n",
              "\n",
              "    .dataframe tbody tr th {\n",
              "        vertical-align: top;\n",
              "    }\n",
              "\n",
              "    .dataframe thead th {\n",
              "        text-align: right;\n",
              "    }\n",
              "</style>\n",
              "<table border=\"1\" class=\"dataframe\">\n",
              "  <thead>\n",
              "    <tr style=\"text-align: right;\">\n",
              "      <th></th>\n",
              "      <th>0</th>\n",
              "    </tr>\n",
              "  </thead>\n",
              "  <tbody>\n",
              "    <tr>\n",
              "      <th>warranty</th>\n",
              "      <td>None</td>\n",
              "    </tr>\n",
              "    <tr>\n",
              "      <th>sub_status</th>\n",
              "      <td>[]</td>\n",
              "    </tr>\n",
              "    <tr>\n",
              "      <th>condition</th>\n",
              "      <td>new</td>\n",
              "    </tr>\n",
              "    <tr>\n",
              "      <th>deal_ids</th>\n",
              "      <td>[]</td>\n",
              "    </tr>\n",
              "    <tr>\n",
              "      <th>base_price</th>\n",
              "      <td>80.0</td>\n",
              "    </tr>\n",
              "    <tr>\n",
              "      <th>non_mercado_pago_payment_methods</th>\n",
              "      <td>[{'description': 'Transferencia bancaria', 'id...</td>\n",
              "    </tr>\n",
              "    <tr>\n",
              "      <th>seller_id</th>\n",
              "      <td>8208882349</td>\n",
              "    </tr>\n",
              "    <tr>\n",
              "      <th>variations</th>\n",
              "      <td>[]</td>\n",
              "    </tr>\n",
              "    <tr>\n",
              "      <th>site_id</th>\n",
              "      <td>MLA</td>\n",
              "    </tr>\n",
              "    <tr>\n",
              "      <th>listing_type_id</th>\n",
              "      <td>bronze</td>\n",
              "    </tr>\n",
              "    <tr>\n",
              "      <th>price</th>\n",
              "      <td>80.0</td>\n",
              "    </tr>\n",
              "    <tr>\n",
              "      <th>attributes</th>\n",
              "      <td>[]</td>\n",
              "    </tr>\n",
              "    <tr>\n",
              "      <th>buying_mode</th>\n",
              "      <td>buy_it_now</td>\n",
              "    </tr>\n",
              "    <tr>\n",
              "      <th>tags</th>\n",
              "      <td>[dragged_bids_and_visits]</td>\n",
              "    </tr>\n",
              "    <tr>\n",
              "      <th>listing_source</th>\n",
              "      <td></td>\n",
              "    </tr>\n",
              "    <tr>\n",
              "      <th>parent_item_id</th>\n",
              "      <td>MLA6553902747</td>\n",
              "    </tr>\n",
              "    <tr>\n",
              "      <th>coverage_areas</th>\n",
              "      <td>[]</td>\n",
              "    </tr>\n",
              "    <tr>\n",
              "      <th>category_id</th>\n",
              "      <td>MLA126406</td>\n",
              "    </tr>\n",
              "    <tr>\n",
              "      <th>descriptions</th>\n",
              "      <td>[{'id': 'MLA4695330653-912855983'}]</td>\n",
              "    </tr>\n",
              "    <tr>\n",
              "      <th>last_updated</th>\n",
              "      <td>2015-09-05T20:42:58.000Z</td>\n",
              "    </tr>\n",
              "    <tr>\n",
              "      <th>international_delivery_mode</th>\n",
              "      <td>none</td>\n",
              "    </tr>\n",
              "    <tr>\n",
              "      <th>pictures</th>\n",
              "      <td>[{'size': '500x375', 'secure_url': 'https://a2...</td>\n",
              "    </tr>\n",
              "    <tr>\n",
              "      <th>id</th>\n",
              "      <td>MLA4695330653</td>\n",
              "    </tr>\n",
              "    <tr>\n",
              "      <th>official_store_id</th>\n",
              "      <td>NaN</td>\n",
              "    </tr>\n",
              "    <tr>\n",
              "      <th>differential_pricing</th>\n",
              "      <td>None</td>\n",
              "    </tr>\n",
              "    <tr>\n",
              "      <th>accepts_mercadopago</th>\n",
              "      <td>True</td>\n",
              "    </tr>\n",
              "    <tr>\n",
              "      <th>original_price</th>\n",
              "      <td>NaN</td>\n",
              "    </tr>\n",
              "    <tr>\n",
              "      <th>currency_id</th>\n",
              "      <td>ARS</td>\n",
              "    </tr>\n",
              "    <tr>\n",
              "      <th>thumbnail</th>\n",
              "      <td>http://mla-s1-p.mlstatic.com/5386-MLA469533065...</td>\n",
              "    </tr>\n",
              "    <tr>\n",
              "      <th>title</th>\n",
              "      <td>Auriculares Samsung Originales Manos Libres Ca...</td>\n",
              "    </tr>\n",
              "    <tr>\n",
              "      <th>automatic_relist</th>\n",
              "      <td>False</td>\n",
              "    </tr>\n",
              "    <tr>\n",
              "      <th>date_created</th>\n",
              "      <td>2015-09-05T20:42:53.000Z</td>\n",
              "    </tr>\n",
              "    <tr>\n",
              "      <th>secure_thumbnail</th>\n",
              "      <td>https://a248.e.akamai.net/mla-s1-p.mlstatic.co...</td>\n",
              "    </tr>\n",
              "    <tr>\n",
              "      <th>stop_time</th>\n",
              "      <td>1446669773000</td>\n",
              "    </tr>\n",
              "    <tr>\n",
              "      <th>status</th>\n",
              "      <td>active</td>\n",
              "    </tr>\n",
              "    <tr>\n",
              "      <th>video_id</th>\n",
              "      <td>None</td>\n",
              "    </tr>\n",
              "    <tr>\n",
              "      <th>catalog_product_id</th>\n",
              "      <td>NaN</td>\n",
              "    </tr>\n",
              "    <tr>\n",
              "      <th>subtitle</th>\n",
              "      <td>None</td>\n",
              "    </tr>\n",
              "    <tr>\n",
              "      <th>initial_quantity</th>\n",
              "      <td>1</td>\n",
              "    </tr>\n",
              "    <tr>\n",
              "      <th>start_time</th>\n",
              "      <td>1441485773000</td>\n",
              "    </tr>\n",
              "    <tr>\n",
              "      <th>permalink</th>\n",
              "      <td>http://articulo.mercadolibre.com.ar/MLA4695330...</td>\n",
              "    </tr>\n",
              "    <tr>\n",
              "      <th>sold_quantity</th>\n",
              "      <td>0</td>\n",
              "    </tr>\n",
              "    <tr>\n",
              "      <th>available_quantity</th>\n",
              "      <td>1</td>\n",
              "    </tr>\n",
              "    <tr>\n",
              "      <th>seller_address_country_name</th>\n",
              "      <td>Argentina</td>\n",
              "    </tr>\n",
              "    <tr>\n",
              "      <th>seller_address_country_id</th>\n",
              "      <td>AR</td>\n",
              "    </tr>\n",
              "    <tr>\n",
              "      <th>seller_address_state_name</th>\n",
              "      <td>Capital Federal</td>\n",
              "    </tr>\n",
              "    <tr>\n",
              "      <th>seller_address_state_id</th>\n",
              "      <td>AR-C</td>\n",
              "    </tr>\n",
              "    <tr>\n",
              "      <th>seller_address_city_name</th>\n",
              "      <td>San Cristóbal</td>\n",
              "    </tr>\n",
              "    <tr>\n",
              "      <th>seller_address_city_id</th>\n",
              "      <td>TUxBQlNBTjkwNTZa</td>\n",
              "    </tr>\n",
              "    <tr>\n",
              "      <th>shipping_local_pick_up</th>\n",
              "      <td>True</td>\n",
              "    </tr>\n",
              "    <tr>\n",
              "      <th>shipping_methods</th>\n",
              "      <td>[]</td>\n",
              "    </tr>\n",
              "    <tr>\n",
              "      <th>shipping_tags</th>\n",
              "      <td>[]</td>\n",
              "    </tr>\n",
              "    <tr>\n",
              "      <th>shipping_free_shipping</th>\n",
              "      <td>False</td>\n",
              "    </tr>\n",
              "    <tr>\n",
              "      <th>shipping_mode</th>\n",
              "      <td>not_specified</td>\n",
              "    </tr>\n",
              "    <tr>\n",
              "      <th>shipping_dimensions</th>\n",
              "      <td>None</td>\n",
              "    </tr>\n",
              "    <tr>\n",
              "      <th>shipping_free_methods</th>\n",
              "      <td>NaN</td>\n",
              "    </tr>\n",
              "  </tbody>\n",
              "</table>\n",
              "</div>\n",
              "      <button class=\"colab-df-convert\" onclick=\"convertToInteractive('df-7889e336-8d76-43eb-94f9-a7384cb97343')\"\n",
              "              title=\"Convert this dataframe to an interactive table.\"\n",
              "              style=\"display:none;\">\n",
              "        \n",
              "  <svg xmlns=\"http://www.w3.org/2000/svg\" height=\"24px\"viewBox=\"0 0 24 24\"\n",
              "       width=\"24px\">\n",
              "    <path d=\"M0 0h24v24H0V0z\" fill=\"none\"/>\n",
              "    <path d=\"M18.56 5.44l.94 2.06.94-2.06 2.06-.94-2.06-.94-.94-2.06-.94 2.06-2.06.94zm-11 1L8.5 8.5l.94-2.06 2.06-.94-2.06-.94L8.5 2.5l-.94 2.06-2.06.94zm10 10l.94 2.06.94-2.06 2.06-.94-2.06-.94-.94-2.06-.94 2.06-2.06.94z\"/><path d=\"M17.41 7.96l-1.37-1.37c-.4-.4-.92-.59-1.43-.59-.52 0-1.04.2-1.43.59L10.3 9.45l-7.72 7.72c-.78.78-.78 2.05 0 2.83L4 21.41c.39.39.9.59 1.41.59.51 0 1.02-.2 1.41-.59l7.78-7.78 2.81-2.81c.8-.78.8-2.07 0-2.86zM5.41 20L4 18.59l7.72-7.72 1.47 1.35L5.41 20z\"/>\n",
              "  </svg>\n",
              "      </button>\n",
              "      \n",
              "  <style>\n",
              "    .colab-df-container {\n",
              "      display:flex;\n",
              "      flex-wrap:wrap;\n",
              "      gap: 12px;\n",
              "    }\n",
              "\n",
              "    .colab-df-convert {\n",
              "      background-color: #E8F0FE;\n",
              "      border: none;\n",
              "      border-radius: 50%;\n",
              "      cursor: pointer;\n",
              "      display: none;\n",
              "      fill: #1967D2;\n",
              "      height: 32px;\n",
              "      padding: 0 0 0 0;\n",
              "      width: 32px;\n",
              "    }\n",
              "\n",
              "    .colab-df-convert:hover {\n",
              "      background-color: #E2EBFA;\n",
              "      box-shadow: 0px 1px 2px rgba(60, 64, 67, 0.3), 0px 1px 3px 1px rgba(60, 64, 67, 0.15);\n",
              "      fill: #174EA6;\n",
              "    }\n",
              "\n",
              "    [theme=dark] .colab-df-convert {\n",
              "      background-color: #3B4455;\n",
              "      fill: #D2E3FC;\n",
              "    }\n",
              "\n",
              "    [theme=dark] .colab-df-convert:hover {\n",
              "      background-color: #434B5C;\n",
              "      box-shadow: 0px 1px 3px 1px rgba(0, 0, 0, 0.15);\n",
              "      filter: drop-shadow(0px 1px 2px rgba(0, 0, 0, 0.3));\n",
              "      fill: #FFFFFF;\n",
              "    }\n",
              "  </style>\n",
              "\n",
              "      <script>\n",
              "        const buttonEl =\n",
              "          document.querySelector('#df-7889e336-8d76-43eb-94f9-a7384cb97343 button.colab-df-convert');\n",
              "        buttonEl.style.display =\n",
              "          google.colab.kernel.accessAllowed ? 'block' : 'none';\n",
              "\n",
              "        async function convertToInteractive(key) {\n",
              "          const element = document.querySelector('#df-7889e336-8d76-43eb-94f9-a7384cb97343');\n",
              "          const dataTable =\n",
              "            await google.colab.kernel.invokeFunction('convertToInteractive',\n",
              "                                                     [key], {});\n",
              "          if (!dataTable) return;\n",
              "\n",
              "          const docLinkHtml = 'Like what you see? Visit the ' +\n",
              "            '<a target=\"_blank\" href=https://colab.research.google.com/notebooks/data_table.ipynb>data table notebook</a>'\n",
              "            + ' to learn more about interactive tables.';\n",
              "          element.innerHTML = '';\n",
              "          dataTable['output_type'] = 'display_data';\n",
              "          await google.colab.output.renderOutput(dataTable, element);\n",
              "          const docLink = document.createElement('div');\n",
              "          docLink.innerHTML = docLinkHtml;\n",
              "          element.appendChild(docLink);\n",
              "        }\n",
              "      </script>\n",
              "    </div>\n",
              "  </div>\n",
              "  "
            ]
          },
          "metadata": {},
          "execution_count": 6
        }
      ],
      "source": [
        "# first row \n",
        "X_train.head(1).T"
      ]
    },
    {
      "cell_type": "code",
      "execution_count": 7,
      "metadata": {
        "id": "Ha99qzm0p_zH"
      },
      "outputs": [],
      "source": [
        "#convert target labels to DF and encode {new = 0, used = 1}\n",
        "\n",
        "y_train = pd.DataFrame(y_train, columns = ['label'])\n",
        "y_train = y_train.replace('used', 1)\n",
        "y_train = y_train.replace('new', 0)\n",
        "\n",
        "y_test = pd.DataFrame(y_test, columns = ['label'])\n",
        "y_test = y_test.replace('used', 1)\n",
        "y_test = y_test.replace('new', 0)"
      ]
    },
    {
      "cell_type": "markdown",
      "metadata": {
        "id": "BrJP6eH1YGcf"
      },
      "source": [
        "### First we are see the distribution of the target labels to understand if it's a unbalanced dataset problem and a brief describe about our data in X\n"
      ]
    },
    {
      "cell_type": "markdown",
      "metadata": {
        "id": "EvXFxw8dMl3I"
      },
      "source": [
        "#### Train label distribution"
      ]
    },
    {
      "cell_type": "code",
      "execution_count": 8,
      "metadata": {
        "colab": {
          "base_uri": "https://localhost:8080/",
          "height": 436
        },
        "id": "CQQ5ao_JKfZS",
        "outputId": "bbc3c365-9e37-4d42-bf04-5c50c8801c9c"
      },
      "outputs": [
        {
          "output_type": "stream",
          "name": "stdout",
          "text": [
            "%PERCENT: \n",
            "0    0.54\n",
            "1    0.46\n",
            "Name: label, dtype: float64 \n",
            "\n",
            "#QTY: \n",
            "0    48352\n",
            "1    41648\n",
            "Name: label, dtype: int64\n"
          ]
        },
        {
          "output_type": "display_data",
          "data": {
            "text/plain": [
              "<Figure size 432x288 with 1 Axes>"
            ],
            "image/png": "[encoded data removed]"
          },
          "metadata": {
            "needs_background": "light"
          }
        }
      ],
      "source": [
        "sns.countplot(data = y_train, x = 'label')\n",
        "\n",
        "print(f'%PERCENT: \\n{np.round(y_train.label.value_counts(normalize = True),2)} \\n')\n",
        "print(f'#QTY: \\n{np.round(y_train.label.value_counts(),2)}')"
      ]
    },
    {
      "cell_type": "markdown",
      "metadata": {
        "id": "O9qrZPGFsgI8"
      },
      "source": [
        "#### X_train distribution"
      ]
    },
    {
      "cell_type": "code",
      "execution_count": 9,
      "metadata": {
        "colab": {
          "base_uri": "https://localhost:8080/",
          "height": 364
        },
        "id": "zhg9DqyfsbLL",
        "outputId": "db173c70-f565-4d88-ca5f-a09e81c30eeb"
      },
      "outputs": [
        {
          "output_type": "execute_result",
          "data": {
            "text/plain": [
              "          base_price      seller_id          price  official_store_id  \\\n",
              "count      90000.000      90000.000      90000.000            745.000   \n",
              "mean       57813.408 5487385581.631      57813.518           5802.019   \n",
              "std      9089554.788 2587139971.316    9089554.787           2657.056   \n",
              "min            0.840 1000319478.000          0.840           1024.000   \n",
              "25%           90.000 3184874639.000         90.000           3590.000   \n",
              "50%          250.000 5512495978.500        250.000           6158.000   \n",
              "75%          800.000 7704929703.000        800.000           8216.000   \n",
              "max   2222222222.000 9999852737.000 2222222222.000           9996.000   \n",
              "\n",
              "       original_price         stop_time  catalog_product_id  initial_quantity  \\\n",
              "count         130.000         90000.000               7.000         90000.000   \n",
              "mean         1492.522 1447647931597.030         2895699.714            34.957   \n",
              "std          1954.906    3251039539.911         1919770.660           421.092   \n",
              "min           120.000 1444823497000.000           94404.000             1.000   \n",
              "25%           449.000 1446313250500.000         1925517.500             1.000   \n",
              "50%           850.000 1447642884500.000         3051112.000             1.000   \n",
              "75%          1500.000 1448930340750.000         4073615.000             2.000   \n",
              "max         12248.000 1730732151000.000         5126117.000          9999.000   \n",
              "\n",
              "             start_time  sold_quantity  available_quantity  \n",
              "count         90000.000      90000.000           90000.000  \n",
              "mean  1442383079673.645          2.328              34.701  \n",
              "std      2122682557.638         33.839             420.812  \n",
              "min   1369110155000.000          0.000               1.000  \n",
              "25%   1441144008000.000          0.000               1.000  \n",
              "50%   1442523935000.000          0.000               1.000  \n",
              "75%   1443799717250.000          0.000               2.000  \n",
              "max   1444900470000.000       6065.000            9999.000  "
            ],
            "text/html": [
              "\n",
              "  <div id=\"df-1d04746a-31f6-4484-b2e0-435a59781ba1\">\n",
              "    <div class=\"colab-df-container\">\n",
              "      <div>\n",
              "<style scoped>\n",
              "    .dataframe tbody tr th:only-of-type {\n",
              "        vertical-align: middle;\n",
              "    }\n",
              "\n",
              "    .dataframe tbody tr th {\n",
              "        vertical-align: top;\n",
              "    }\n",
              "\n",
              "    .dataframe thead th {\n",
              "        text-align: right;\n",
              "    }\n",
              "</style>\n",
              "<table border=\"1\" class=\"dataframe\">\n",
              "  <thead>\n",
              "    <tr style=\"text-align: right;\">\n",
              "      <th></th>\n",
              "      <th>base_price</th>\n",
              "      <th>seller_id</th>\n",
              "      <th>price</th>\n",
              "      <th>official_store_id</th>\n",
              "      <th>original_price</th>\n",
              "      <th>stop_time</th>\n",
              "      <th>catalog_product_id</th>\n",
              "      <th>initial_quantity</th>\n",
              "      <th>start_time</th>\n",
              "      <th>sold_quantity</th>\n",
              "      <th>available_quantity</th>\n",
              "    </tr>\n",
              "  </thead>\n",
              "  <tbody>\n",
              "    <tr>\n",
              "      <th>count</th>\n",
              "      <td>90000.000</td>\n",
              "      <td>90000.000</td>\n",
              "      <td>90000.000</td>\n",
              "      <td>745.000</td>\n",
              "      <td>130.000</td>\n",
              "      <td>90000.000</td>\n",
              "      <td>7.000</td>\n",
              "      <td>90000.000</td>\n",
              "      <td>90000.000</td>\n",
              "      <td>90000.000</td>\n",
              "      <td>90000.000</td>\n",
              "    </tr>\n",
              "    <tr>\n",
              "      <th>mean</th>\n",
              "      <td>57813.408</td>\n",
              "      <td>5487385581.631</td>\n",
              "      <td>57813.518</td>\n",
              "      <td>5802.019</td>\n",
              "      <td>1492.522</td>\n",
              "      <td>1447647931597.030</td>\n",
              "      <td>2895699.714</td>\n",
              "      <td>34.957</td>\n",
              "      <td>1442383079673.645</td>\n",
              "      <td>2.328</td>\n",
              "      <td>34.701</td>\n",
              "    </tr>\n",
              "    <tr>\n",
              "      <th>std</th>\n",
              "      <td>9089554.788</td>\n",
              "      <td>2587139971.316</td>\n",
              "      <td>9089554.787</td>\n",
              "      <td>2657.056</td>\n",
              "      <td>1954.906</td>\n",
              "      <td>3251039539.911</td>\n",
              "      <td>1919770.660</td>\n",
              "      <td>421.092</td>\n",
              "      <td>2122682557.638</td>\n",
              "      <td>33.839</td>\n",
              "      <td>420.812</td>\n",
              "    </tr>\n",
              "    <tr>\n",
              "      <th>min</th>\n",
              "      <td>0.840</td>\n",
              "      <td>1000319478.000</td>\n",
              "      <td>0.840</td>\n",
              "      <td>1024.000</td>\n",
              "      <td>120.000</td>\n",
              "      <td>1444823497000.000</td>\n",
              "      <td>94404.000</td>\n",
              "      <td>1.000</td>\n",
              "      <td>1369110155000.000</td>\n",
              "      <td>0.000</td>\n",
              "      <td>1.000</td>\n",
              "    </tr>\n",
              "    <tr>\n",
              "      <th>25%</th>\n",
              "      <td>90.000</td>\n",
              "      <td>3184874639.000</td>\n",
              "      <td>90.000</td>\n",
              "      <td>3590.000</td>\n",
              "      <td>449.000</td>\n",
              "      <td>1446313250500.000</td>\n",
              "      <td>1925517.500</td>\n",
              "      <td>1.000</td>\n",
              "      <td>1441144008000.000</td>\n",
              "      <td>0.000</td>\n",
              "      <td>1.000</td>\n",
              "    </tr>\n",
              "    <tr>\n",
              "      <th>50%</th>\n",
              "      <td>250.000</td>\n",
              "      <td>5512495978.500</td>\n",
              "      <td>250.000</td>\n",
              "      <td>6158.000</td>\n",
              "      <td>850.000</td>\n",
              "      <td>1447642884500.000</td>\n",
              "      <td>3051112.000</td>\n",
              "      <td>1.000</td>\n",
              "      <td>1442523935000.000</td>\n",
              "      <td>0.000</td>\n",
              "      <td>1.000</td>\n",
              "    </tr>\n",
              "    <tr>\n",
              "      <th>75%</th>\n",
              "      <td>800.000</td>\n",
              "      <td>7704929703.000</td>\n",
              "      <td>800.000</td>\n",
              "      <td>8216.000</td>\n",
              "      <td>1500.000</td>\n",
              "      <td>1448930340750.000</td>\n",
              "      <td>4073615.000</td>\n",
              "      <td>2.000</td>\n",
              "      <td>1443799717250.000</td>\n",
              "      <td>0.000</td>\n",
              "      <td>2.000</td>\n",
              "    </tr>\n",
              "    <tr>\n",
              "      <th>max</th>\n",
              "      <td>2222222222.000</td>\n",
              "      <td>9999852737.000</td>\n",
              "      <td>2222222222.000</td>\n",
              "      <td>9996.000</td>\n",
              "      <td>12248.000</td>\n",
              "      <td>1730732151000.000</td>\n",
              "      <td>5126117.000</td>\n",
              "      <td>9999.000</td>\n",
              "      <td>1444900470000.000</td>\n",
              "      <td>6065.000</td>\n",
              "      <td>9999.000</td>\n",
              "    </tr>\n",
              "  </tbody>\n",
              "</table>\n",
              "</div>\n",
              "      <button class=\"colab-df-convert\" onclick=\"convertToInteractive('df-1d04746a-31f6-4484-b2e0-435a59781ba1')\"\n",
              "              title=\"Convert this dataframe to an interactive table.\"\n",
              "              style=\"display:none;\">\n",
              "        \n",
              "  <svg xmlns=\"http://www.w3.org/2000/svg\" height=\"24px\"viewBox=\"0 0 24 24\"\n",
              "       width=\"24px\">\n",
              "    <path d=\"M0 0h24v24H0V0z\" fill=\"none\"/>\n",
              "    <path d=\"M18.56 5.44l.94 2.06.94-2.06 2.06-.94-2.06-.94-.94-2.06-.94 2.06-2.06.94zm-11 1L8.5 8.5l.94-2.06 2.06-.94-2.06-.94L8.5 2.5l-.94 2.06-2.06.94zm10 10l.94 2.06.94-2.06 2.06-.94-2.06-.94-.94-2.06-.94 2.06-2.06.94z\"/><path d=\"M17.41 7.96l-1.37-1.37c-.4-.4-.92-.59-1.43-.59-.52 0-1.04.2-1.43.59L10.3 9.45l-7.72 7.72c-.78.78-.78 2.05 0 2.83L4 21.41c.39.39.9.59 1.41.59.51 0 1.02-.2 1.41-.59l7.78-7.78 2.81-2.81c.8-.78.8-2.07 0-2.86zM5.41 20L4 18.59l7.72-7.72 1.47 1.35L5.41 20z\"/>\n",
              "  </svg>\n",
              "      </button>\n",
              "      \n",
              "  <style>\n",
              "    .colab-df-container {\n",
              "      display:flex;\n",
              "      flex-wrap:wrap;\n",
              "      gap: 12px;\n",
              "    }\n",
              "\n",
              "    .colab-df-convert {\n",
              "      background-color: #E8F0FE;\n",
              "      border: none;\n",
              "      border-radius: 50%;\n",
              "      cursor: pointer;\n",
              "      display: none;\n",
              "      fill: #1967D2;\n",
              "      height: 32px;\n",
              "      padding: 0 0 0 0;\n",
              "      width: 32px;\n",
              "    }\n",
              "\n",
              "    .colab-df-convert:hover {\n",
              "      background-color: #E2EBFA;\n",
              "      box-shadow: 0px 1px 2px rgba(60, 64, 67, 0.3), 0px 1px 3px 1px rgba(60, 64, 67, 0.15);\n",
              "      fill: #174EA6;\n",
              "    }\n",
              "\n",
              "    [theme=dark] .colab-df-convert {\n",
              "      background-color: #3B4455;\n",
              "      fill: #D2E3FC;\n",
              "    }\n",
              "\n",
              "    [theme=dark] .colab-df-convert:hover {\n",
              "      background-color: #434B5C;\n",
              "      box-shadow: 0px 1px 3px 1px rgba(0, 0, 0, 0.15);\n",
              "      filter: drop-shadow(0px 1px 2px rgba(0, 0, 0, 0.3));\n",
              "      fill: #FFFFFF;\n",
              "    }\n",
              "  </style>\n",
              "\n",
              "      <script>\n",
              "        const buttonEl =\n",
              "          document.querySelector('#df-1d04746a-31f6-4484-b2e0-435a59781ba1 button.colab-df-convert');\n",
              "        buttonEl.style.display =\n",
              "          google.colab.kernel.accessAllowed ? 'block' : 'none';\n",
              "\n",
              "        async function convertToInteractive(key) {\n",
              "          const element = document.querySelector('#df-1d04746a-31f6-4484-b2e0-435a59781ba1');\n",
              "          const dataTable =\n",
              "            await google.colab.kernel.invokeFunction('convertToInteractive',\n",
              "                                                     [key], {});\n",
              "          if (!dataTable) return;\n",
              "\n",
              "          const docLinkHtml = 'Like what you see? Visit the ' +\n",
              "            '<a target=\"_blank\" href=https://colab.research.google.com/notebooks/data_table.ipynb>data table notebook</a>'\n",
              "            + ' to learn more about interactive tables.';\n",
              "          element.innerHTML = '';\n",
              "          dataTable['output_type'] = 'display_data';\n",
              "          await google.colab.output.renderOutput(dataTable, element);\n",
              "          const docLink = document.createElement('div');\n",
              "          docLink.innerHTML = docLinkHtml;\n",
              "          element.appendChild(docLink);\n",
              "        }\n",
              "      </script>\n",
              "    </div>\n",
              "  </div>\n",
              "  "
            ]
          },
          "metadata": {},
          "execution_count": 9
        }
      ],
      "source": [
        "pd.set_option('display.float_format',lambda x:'%.3f'% x) #remove scientific notation\n",
        "\n",
        "X_train.describe()"
      ]
    },
    {
      "cell_type": "code",
      "execution_count": 10,
      "metadata": {
        "id": "CHaA1IElOE3Z"
      },
      "outputs": [],
      "source": [
        "# if the mean price arround in 60k maybe we have some outliers on the price column, then we replace with the mean. "
      ]
    },
    {
      "cell_type": "code",
      "execution_count": 11,
      "metadata": {
        "colab": {
          "base_uri": "https://localhost:8080/"
        },
        "id": "yPpoNkgHOE3a",
        "outputId": "961c2fa1-899e-4607-8e2b-3feb20c70269"
      },
      "outputs": [
        {
          "output_type": "execute_result",
          "data": {
            "text/plain": [
              "11111111.000      3\n",
              "1111111111.000    2\n",
              "5330000.000       1\n",
              "8888888.000       1\n",
              "2222222222.000    1\n",
              "9000000.000       1\n",
              "123456789.000     1\n",
              "112111111.000     1\n",
              "6500000.000       1\n",
              "Name: price, dtype: int64"
            ]
          },
          "metadata": {},
          "execution_count": 11
        }
      ],
      "source": [
        "X_train['price'].where(X_train['price'] > 4000000).value_counts()"
      ]
    },
    {
      "cell_type": "code",
      "execution_count": 12,
      "metadata": {
        "id": "GDBLDLLYOE3a"
      },
      "outputs": [],
      "source": [
        "X_train.loc[X_train.price > 4000000, 'price'] = X_train['price'].mean()"
      ]
    },
    {
      "cell_type": "code",
      "execution_count": 12,
      "metadata": {
        "id": "Nv6NWfXMOE3a"
      },
      "outputs": [],
      "source": [
        ""
      ]
    },
    {
      "cell_type": "code",
      "execution_count": 13,
      "metadata": {
        "id": "FzOZxX0ttof2",
        "colab": {
          "base_uri": "https://localhost:8080/",
          "height": 386
        },
        "outputId": "c116e0c2-0987-4970-af4a-17ba86782421"
      },
      "outputs": [
        {
          "output_type": "execute_result",
          "data": {
            "text/plain": [
              "<seaborn.axisgrid.FacetGrid at 0x7fa5fc913710>"
            ]
          },
          "metadata": {},
          "execution_count": 13
        },
        {
          "output_type": "display_data",
          "data": {
            "text/plain": [
              "<Figure size 504x360 with 1 Axes>"
            ],
            "image/png": "[encoded data removed]"
          },
          "metadata": {
            "needs_background": "light"
          }
        }
      ],
      "source": [
        "sns.displot(\n",
        "  data=X_train,\n",
        "  x=\"price\",\n",
        "  kind=\"hist\",\n",
        "  aspect=1.4,\n",
        "  log_scale=10,\n",
        "  bins=10\n",
        ")"
      ]
    },
    {
      "cell_type": "markdown",
      "metadata": {
        "id": "zPBzb0qJMqOw"
      },
      "source": [
        "#### Test label distribution"
      ]
    },
    {
      "cell_type": "code",
      "execution_count": 14,
      "metadata": {
        "colab": {
          "base_uri": "https://localhost:8080/",
          "height": 435
        },
        "id": "tYgITls-Mv_f",
        "outputId": "71683d3c-8eed-4024-ad03-13bdbf22ed93"
      },
      "outputs": [
        {
          "output_type": "stream",
          "name": "stdout",
          "text": [
            "%PERCENT: \n",
            "0   0.540\n",
            "1   0.460\n",
            "Name: label, dtype: float64 \n",
            "\n",
            "#QTY: \n",
            "0    5406\n",
            "1    4594\n",
            "Name: label, dtype: int64\n"
          ]
        },
        {
          "output_type": "display_data",
          "data": {
            "text/plain": [
              "<Figure size 432x288 with 1 Axes>"
            ],
            "image/png": "[encoded data removed]"
          },
          "metadata": {
            "needs_background": "light"
          }
        }
      ],
      "source": [
        "sns.countplot(data = y_test, x = 'label')\n",
        "\n",
        "print(f'%PERCENT: \\n{np.round(y_test.label.value_counts(normalize = True),2)} \\n')\n",
        "print(f'#QTY: \\n{np.round(y_test.label.value_counts(),2)}')"
      ]
    },
    {
      "cell_type": "markdown",
      "metadata": {
        "id": "cfbRGtMUsmHZ"
      },
      "source": [
        "#### X_test distribution"
      ]
    },
    {
      "cell_type": "code",
      "execution_count": 16,
      "metadata": {
        "colab": {
          "base_uri": "https://localhost:8080/",
          "height": 364
        },
        "id": "umleoUL2srn_",
        "outputId": "15bb17f3-e17f-4889-8fb5-aa1f9aa477a8"
      },
      "outputs": [
        {
          "output_type": "execute_result",
          "data": {
            "text/plain": [
              "       base_price      seller_id       price  official_store_id  \\\n",
              "count   10000.000      10000.000   10000.000             73.000   \n",
              "mean     4921.612 5519016039.555    4921.618           5649.164   \n",
              "std     38379.886 2594587576.723   38379.885           2700.911   \n",
              "min         1.000 1000078989.000       1.000           1330.000   \n",
              "25%        92.925 3245125148.500      92.925           3590.000   \n",
              "50%       250.000 5563425521.500     250.000           5192.000   \n",
              "75%       875.982 7740857933.750     875.982           8649.000   \n",
              "max   1499000.000 9999735017.000 1499000.000           9971.000   \n",
              "\n",
              "       original_price         stop_time  catalog_product_id  initial_quantity  \\\n",
              "count          13.000         10000.000               4.000         10000.000   \n",
              "mean         2601.538 1447628522581.730         5183544.250            36.319   \n",
              "std          4169.966    3226534111.674          167577.079           420.953   \n",
              "min           350.000 1444897728000.000         5093232.000             1.000   \n",
              "25%           599.000 1446291993750.000         5093232.000             1.000   \n",
              "50%           889.000 1447621138000.000         5103216.000             1.000   \n",
              "75%          1225.000 1448931111500.000         5193528.250             2.000   \n",
              "max         13999.000 1730732151000.000         5434513.000          9999.000   \n",
              "\n",
              "             start_time  sold_quantity  available_quantity  \n",
              "count         10000.000      10000.000           10000.000  \n",
              "mean  1442377384236.800          3.018              36.117  \n",
              "std      2038148343.973         88.964             420.798  \n",
              "min   1375882909000.000          0.000               1.000  \n",
              "25%   1441121454500.000          0.000               1.000  \n",
              "50%   1442501645000.000          0.000               1.000  \n",
              "75%   1443801761500.000          0.000               2.000  \n",
              "max   1444899305000.000       8676.000            9999.000  "
            ],
            "text/html": [
              "\n",
              "  <div id=\"df-3fae7c13-a315-483b-8c42-0d884ee8dfed\">\n",
              "    <div class=\"colab-df-container\">\n",
              "      <div>\n",
              "<style scoped>\n",
              "    .dataframe tbody tr th:only-of-type {\n",
              "        vertical-align: middle;\n",
              "    }\n",
              "\n",
              "    .dataframe tbody tr th {\n",
              "        vertical-align: top;\n",
              "    }\n",
              "\n",
              "    .dataframe thead th {\n",
              "        text-align: right;\n",
              "    }\n",
              "</style>\n",
              "<table border=\"1\" class=\"dataframe\">\n",
              "  <thead>\n",
              "    <tr style=\"text-align: right;\">\n",
              "      <th></th>\n",
              "      <th>base_price</th>\n",
              "      <th>seller_id</th>\n",
              "      <th>price</th>\n",
              "      <th>official_store_id</th>\n",
              "      <th>original_price</th>\n",
              "      <th>stop_time</th>\n",
              "      <th>catalog_product_id</th>\n",
              "      <th>initial_quantity</th>\n",
              "      <th>start_time</th>\n",
              "      <th>sold_quantity</th>\n",
              "      <th>available_quantity</th>\n",
              "    </tr>\n",
              "  </thead>\n",
              "  <tbody>\n",
              "    <tr>\n",
              "      <th>count</th>\n",
              "      <td>10000.000</td>\n",
              "      <td>10000.000</td>\n",
              "      <td>10000.000</td>\n",
              "      <td>73.000</td>\n",
              "      <td>13.000</td>\n",
              "      <td>10000.000</td>\n",
              "      <td>4.000</td>\n",
              "      <td>10000.000</td>\n",
              "      <td>10000.000</td>\n",
              "      <td>10000.000</td>\n",
              "      <td>10000.000</td>\n",
              "    </tr>\n",
              "    <tr>\n",
              "      <th>mean</th>\n",
              "      <td>4921.612</td>\n",
              "      <td>5519016039.555</td>\n",
              "      <td>4921.618</td>\n",
              "      <td>5649.164</td>\n",
              "      <td>2601.538</td>\n",
              "      <td>1447628522581.730</td>\n",
              "      <td>5183544.250</td>\n",
              "      <td>36.319</td>\n",
              "      <td>1442377384236.800</td>\n",
              "      <td>3.018</td>\n",
              "      <td>36.117</td>\n",
              "    </tr>\n",
              "    <tr>\n",
              "      <th>std</th>\n",
              "      <td>38379.886</td>\n",
              "      <td>2594587576.723</td>\n",
              "      <td>38379.885</td>\n",
              "      <td>2700.911</td>\n",
              "      <td>4169.966</td>\n",
              "      <td>3226534111.674</td>\n",
              "      <td>167577.079</td>\n",
              "      <td>420.953</td>\n",
              "      <td>2038148343.973</td>\n",
              "      <td>88.964</td>\n",
              "      <td>420.798</td>\n",
              "    </tr>\n",
              "    <tr>\n",
              "      <th>min</th>\n",
              "      <td>1.000</td>\n",
              "      <td>1000078989.000</td>\n",
              "      <td>1.000</td>\n",
              "      <td>1330.000</td>\n",
              "      <td>350.000</td>\n",
              "      <td>1444897728000.000</td>\n",
              "      <td>5093232.000</td>\n",
              "      <td>1.000</td>\n",
              "      <td>1375882909000.000</td>\n",
              "      <td>0.000</td>\n",
              "      <td>1.000</td>\n",
              "    </tr>\n",
              "    <tr>\n",
              "      <th>25%</th>\n",
              "      <td>92.925</td>\n",
              "      <td>3245125148.500</td>\n",
              "      <td>92.925</td>\n",
              "      <td>3590.000</td>\n",
              "      <td>599.000</td>\n",
              "      <td>1446291993750.000</td>\n",
              "      <td>5093232.000</td>\n",
              "      <td>1.000</td>\n",
              "      <td>1441121454500.000</td>\n",
              "      <td>0.000</td>\n",
              "      <td>1.000</td>\n",
              "    </tr>\n",
              "    <tr>\n",
              "      <th>50%</th>\n",
              "      <td>250.000</td>\n",
              "      <td>5563425521.500</td>\n",
              "      <td>250.000</td>\n",
              "      <td>5192.000</td>\n",
              "      <td>889.000</td>\n",
              "      <td>1447621138000.000</td>\n",
              "      <td>5103216.000</td>\n",
              "      <td>1.000</td>\n",
              "      <td>1442501645000.000</td>\n",
              "      <td>0.000</td>\n",
              "      <td>1.000</td>\n",
              "    </tr>\n",
              "    <tr>\n",
              "      <th>75%</th>\n",
              "      <td>875.982</td>\n",
              "      <td>7740857933.750</td>\n",
              "      <td>875.982</td>\n",
              "      <td>8649.000</td>\n",
              "      <td>1225.000</td>\n",
              "      <td>1448931111500.000</td>\n",
              "      <td>5193528.250</td>\n",
              "      <td>2.000</td>\n",
              "      <td>1443801761500.000</td>\n",
              "      <td>0.000</td>\n",
              "      <td>2.000</td>\n",
              "    </tr>\n",
              "    <tr>\n",
              "      <th>max</th>\n",
              "      <td>1499000.000</td>\n",
              "      <td>9999735017.000</td>\n",
              "      <td>1499000.000</td>\n",
              "      <td>9971.000</td>\n",
              "      <td>13999.000</td>\n",
              "      <td>1730732151000.000</td>\n",
              "      <td>5434513.000</td>\n",
              "      <td>9999.000</td>\n",
              "      <td>1444899305000.000</td>\n",
              "      <td>8676.000</td>\n",
              "      <td>9999.000</td>\n",
              "    </tr>\n",
              "  </tbody>\n",
              "</table>\n",
              "</div>\n",
              "      <button class=\"colab-df-convert\" onclick=\"convertToInteractive('df-3fae7c13-a315-483b-8c42-0d884ee8dfed')\"\n",
              "              title=\"Convert this dataframe to an interactive table.\"\n",
              "              style=\"display:none;\">\n",
              "        \n",
              "  <svg xmlns=\"http://www.w3.org/2000/svg\" height=\"24px\"viewBox=\"0 0 24 24\"\n",
              "       width=\"24px\">\n",
              "    <path d=\"M0 0h24v24H0V0z\" fill=\"none\"/>\n",
              "    <path d=\"M18.56 5.44l.94 2.06.94-2.06 2.06-.94-2.06-.94-.94-2.06-.94 2.06-2.06.94zm-11 1L8.5 8.5l.94-2.06 2.06-.94-2.06-.94L8.5 2.5l-.94 2.06-2.06.94zm10 10l.94 2.06.94-2.06 2.06-.94-2.06-.94-.94-2.06-.94 2.06-2.06.94z\"/><path d=\"M17.41 7.96l-1.37-1.37c-.4-.4-.92-.59-1.43-.59-.52 0-1.04.2-1.43.59L10.3 9.45l-7.72 7.72c-.78.78-.78 2.05 0 2.83L4 21.41c.39.39.9.59 1.41.59.51 0 1.02-.2 1.41-.59l7.78-7.78 2.81-2.81c.8-.78.8-2.07 0-2.86zM5.41 20L4 18.59l7.72-7.72 1.47 1.35L5.41 20z\"/>\n",
              "  </svg>\n",
              "      </button>\n",
              "      \n",
              "  <style>\n",
              "    .colab-df-container {\n",
              "      display:flex;\n",
              "      flex-wrap:wrap;\n",
              "      gap: 12px;\n",
              "    }\n",
              "\n",
              "    .colab-df-convert {\n",
              "      background-color: #E8F0FE;\n",
              "      border: none;\n",
              "      border-radius: 50%;\n",
              "      cursor: pointer;\n",
              "      display: none;\n",
              "      fill: #1967D2;\n",
              "      height: 32px;\n",
              "      padding: 0 0 0 0;\n",
              "      width: 32px;\n",
              "    }\n",
              "\n",
              "    .colab-df-convert:hover {\n",
              "      background-color: #E2EBFA;\n",
              "      box-shadow: 0px 1px 2px rgba(60, 64, 67, 0.3), 0px 1px 3px 1px rgba(60, 64, 67, 0.15);\n",
              "      fill: #174EA6;\n",
              "    }\n",
              "\n",
              "    [theme=dark] .colab-df-convert {\n",
              "      background-color: #3B4455;\n",
              "      fill: #D2E3FC;\n",
              "    }\n",
              "\n",
              "    [theme=dark] .colab-df-convert:hover {\n",
              "      background-color: #434B5C;\n",
              "      box-shadow: 0px 1px 3px 1px rgba(0, 0, 0, 0.15);\n",
              "      filter: drop-shadow(0px 1px 2px rgba(0, 0, 0, 0.3));\n",
              "      fill: #FFFFFF;\n",
              "    }\n",
              "  </style>\n",
              "\n",
              "      <script>\n",
              "        const buttonEl =\n",
              "          document.querySelector('#df-3fae7c13-a315-483b-8c42-0d884ee8dfed button.colab-df-convert');\n",
              "        buttonEl.style.display =\n",
              "          google.colab.kernel.accessAllowed ? 'block' : 'none';\n",
              "\n",
              "        async function convertToInteractive(key) {\n",
              "          const element = document.querySelector('#df-3fae7c13-a315-483b-8c42-0d884ee8dfed');\n",
              "          const dataTable =\n",
              "            await google.colab.kernel.invokeFunction('convertToInteractive',\n",
              "                                                     [key], {});\n",
              "          if (!dataTable) return;\n",
              "\n",
              "          const docLinkHtml = 'Like what you see? Visit the ' +\n",
              "            '<a target=\"_blank\" href=https://colab.research.google.com/notebooks/data_table.ipynb>data table notebook</a>'\n",
              "            + ' to learn more about interactive tables.';\n",
              "          element.innerHTML = '';\n",
              "          dataTable['output_type'] = 'display_data';\n",
              "          await google.colab.output.renderOutput(dataTable, element);\n",
              "          const docLink = document.createElement('div');\n",
              "          docLink.innerHTML = docLinkHtml;\n",
              "          element.appendChild(docLink);\n",
              "        }\n",
              "      </script>\n",
              "    </div>\n",
              "  </div>\n",
              "  "
            ]
          },
          "metadata": {},
          "execution_count": 16
        }
      ],
      "source": [
        "X_test.describe()"
      ]
    },
    {
      "cell_type": "code",
      "execution_count": 15,
      "metadata": {
        "colab": {
          "base_uri": "https://localhost:8080/",
          "height": 386
        },
        "id": "iQrYjYPUOE3b",
        "outputId": "289e700a-0a9b-4190-ae94-d24c5f0c8035"
      },
      "outputs": [
        {
          "output_type": "execute_result",
          "data": {
            "text/plain": [
              "<seaborn.axisgrid.FacetGrid at 0x7fa5b5efae50>"
            ]
          },
          "metadata": {},
          "execution_count": 15
        },
        {
          "output_type": "display_data",
          "data": {
            "text/plain": [
              "<Figure size 504x360 with 1 Axes>"
            ],
            "image/png": "[encoded data removed]"
          },
          "metadata": {
            "needs_background": "light"
          }
        }
      ],
      "source": [
        "sns.displot(\n",
        "  data=X_test,\n",
        "  x=\"price\",\n",
        "  kind=\"hist\",\n",
        "  aspect=1.4,\n",
        "  log_scale=10,\n",
        "  bins=10\n",
        ")"
      ]
    },
    {
      "cell_type": "markdown",
      "metadata": {
        "id": "ldnSFScPYwil"
      },
      "source": [
        "## EDA "
      ]
    },
    {
      "cell_type": "code",
      "execution_count": 16,
      "metadata": {
        "id": "AZJYEs4gWK2m"
      },
      "outputs": [],
      "source": [
        "quantitative_vars = X_train.select_dtypes(include=['int64', 'float64']).columns\n",
        "categorical_features = X_train.select_dtypes(include=['object']).columns"
      ]
    },
    {
      "cell_type": "code",
      "source": [
        "for col in quantitative_vars:\n",
        "    print(col,':')\n",
        "    print(X_train[col].value_counts(), '\\n')"
      ],
      "metadata": {
        "colab": {
          "base_uri": "https://localhost:8080/"
        },
        "id": "WpK1zfB5OVBO",
        "outputId": "449c1c4d-b914-4644-822f-8ca6c31063cd"
      },
      "execution_count": 17,
      "outputs": [
        {
          "output_type": "stream",
          "name": "stdout",
          "text": [
            "base_price :\n",
            "50.000      2920\n",
            "100.000     2562\n",
            "150.000     2242\n",
            "60.000      1859\n",
            "200.000     1789\n",
            "            ... \n",
            "924.520        1\n",
            "4399.990       1\n",
            "6374.000       1\n",
            "179.070        1\n",
            "696.580        1\n",
            "Name: base_price, Length: 9594, dtype: int64 \n",
            "\n",
            "seller_id :\n",
            "5248662274    850\n",
            "2015548469    654\n",
            "7704929703    424\n",
            "4631246902    408\n",
            "8612126795    318\n",
            "             ... \n",
            "1941984304      1\n",
            "9133610243      1\n",
            "6259088162      1\n",
            "9621113308      1\n",
            "9518711314      1\n",
            "Name: seller_id, Length: 33281, dtype: int64 \n",
            "\n",
            "price :\n",
            "50.000      2920\n",
            "100.000     2562\n",
            "150.000     2242\n",
            "60.000      1859\n",
            "200.000     1789\n",
            "            ... \n",
            "4399.990       1\n",
            "6374.000       1\n",
            "179.070        1\n",
            "6242.000       1\n",
            "696.580        1\n",
            "Name: price, Length: 9587, dtype: int64 \n",
            "\n",
            "official_store_id :\n",
            "1580.000    37\n",
            "6448.000    27\n",
            "6732.000    23\n",
            "4701.000    21\n",
            "9218.000    20\n",
            "            ..\n",
            "7532.000     1\n",
            "6106.000     1\n",
            "8293.000     1\n",
            "7248.000     1\n",
            "4338.000     1\n",
            "Name: official_store_id, Length: 193, dtype: int64 \n",
            "\n",
            "original_price :\n",
            "750.000     3\n",
            "1500.000    3\n",
            "449.000     3\n",
            "350.000     3\n",
            "850.000     3\n",
            "           ..\n",
            "389.000     1\n",
            "262.000     1\n",
            "1139.000    1\n",
            "654.000     1\n",
            "699.000     1\n",
            "Name: original_price, Length: 105, dtype: int64 \n",
            "\n",
            "stop_time :\n",
            "1446584296000    19\n",
            "1446858780000    17\n",
            "1447009249000    17\n",
            "1447384665000    15\n",
            "1446325154000    13\n",
            "                 ..\n",
            "1447014766000     1\n",
            "1448935053000     1\n",
            "1449884024000     1\n",
            "1447418520000     1\n",
            "1449878053000     1\n",
            "Name: stop_time, Length: 78486, dtype: int64 \n",
            "\n",
            "catalog_product_id :\n",
            "800744.000     1\n",
            "5093232.000    1\n",
            "3050291.000    1\n",
            "5126117.000    1\n",
            "94404.000      1\n",
            "3051112.000    1\n",
            "3053998.000    1\n",
            "Name: catalog_product_id, dtype: int64 \n",
            "\n",
            "initial_quantity :\n",
            "1       63245\n",
            "2        4575\n",
            "10       4215\n",
            "3        3104\n",
            "5        2226\n",
            "        ...  \n",
            "836         1\n",
            "125         1\n",
            "1106        1\n",
            "968         1\n",
            "770         1\n",
            "Name: initial_quantity, Length: 425, dtype: int64 \n",
            "\n",
            "start_time :\n",
            "1442514419000    7\n",
            "1441716432000    7\n",
            "1443449439000    7\n",
            "1441311725000    7\n",
            "1444689463000    7\n",
            "                ..\n",
            "1442341457000    1\n",
            "1440967494000    1\n",
            "1444830680000    1\n",
            "1441053806000    1\n",
            "1444694053000    1\n",
            "Name: start_time, Length: 78890, dtype: int64 \n",
            "\n",
            "sold_quantity :\n",
            "0       74834\n",
            "1        5924\n",
            "2        2246\n",
            "3        1196\n",
            "4         853\n",
            "        ...  \n",
            "235         1\n",
            "1116        1\n",
            "852         1\n",
            "530         1\n",
            "298         1\n",
            "Name: sold_quantity, Length: 304, dtype: int64 \n",
            "\n",
            "available_quantity :\n",
            "1      63732\n",
            "2       4737\n",
            "10      3886\n",
            "3       3184\n",
            "5       2052\n",
            "       ...  \n",
            "629        1\n",
            "664        1\n",
            "762        1\n",
            "481        1\n",
            "769        1\n",
            "Name: available_quantity, Length: 441, dtype: int64 \n",
            "\n"
          ]
        }
      ]
    },
    {
      "cell_type": "code",
      "execution_count": 20,
      "metadata": {
        "id": "bSmNGYxEWK6_"
      },
      "outputs": [],
      "source": [
        "numeric_features = X_train.select_dtypes(include=['int64', 'float64']).columns\n",
        "\n",
        "#scaler\n",
        "\n",
        "scaler = StandardScaler()\n",
        "scaler.fit(X_train[numeric_features])\n",
        "X_train[numeric_features]  = scaler.transform(X_train[numeric_features])\n",
        "\n",
        "X_test[numeric_features] = scaler.transform(X_test[numeric_features])"
      ]
    },
    {
      "cell_type": "code",
      "execution_count": 21,
      "metadata": {
        "id": "oohbr0O1e54l"
      },
      "outputs": [],
      "source": [
        "X_train = X_train.fillna(0)\n",
        "X_test = X_test.fillna(0)\n",
        "\n",
        "cols_common = [X_train.columns[i] for i in range(len(X_train.columns))]"
      ]
    },
    {
      "cell_type": "markdown",
      "metadata": {
        "id": "QFj6C-UphaV9"
      },
      "source": [
        "## Feature Correlations"
      ]
    },
    {
      "cell_type": "code",
      "execution_count": 22,
      "metadata": {
        "colab": {
          "base_uri": "https://localhost:8080/",
          "height": 701
        },
        "id": "oJGh2OwIWK9F",
        "outputId": "55b739e8-8ccc-4f14-e596-fb1d06fbc13f"
      },
      "outputs": [
        {
          "output_type": "display_data",
          "data": {
            "text/plain": [
              "<Figure size 1800x720 with 2 Axes>"
            ],
            "image/png": "[encoded data removed]"
          },
          "metadata": {
            "needs_background": "light"
          }
        }
      ],
      "source": [
        "plt.figure(figsize = (25,10))\n",
        "\n",
        "sns.heatmap(X_train[cols_common].corr().round(2),\n",
        "            vmin = -1,\n",
        "            vmax = 1,\n",
        "            annot = True,\n",
        "            cmap = 'RdBu')\n",
        "\n",
        "plt.savefig(f'correlations.jpg')\n",
        "plt.show()"
      ]
    },
    {
      "cell_type": "code",
      "execution_count": 23,
      "metadata": {
        "id": "3DPTefXzWLBZ"
      },
      "outputs": [],
      "source": [
        "# Drop columns with object-list into cell. In a second version we parse this fields to enrich the model. "
      ]
    },
    {
      "cell_type": "code",
      "execution_count": 24,
      "metadata": {
        "id": "xW3eRt-Rz1AJ"
      },
      "outputs": [],
      "source": [
        "X_train.drop(['condition', 'shipping_tags', 'shipping_methods', 'pictures', 'descriptions', 'coverage_areas', 'sub_status',\n",
        "              'deal_ids','non_mercado_pago_payment_methods','variations','attributes','tags','shipping_free_methods'], axis=1, inplace=True)"
      ]
    },
    {
      "cell_type": "code",
      "execution_count": 25,
      "metadata": {
        "id": "fwGV0c_z1DPm"
      },
      "outputs": [],
      "source": [
        "X_test.drop(['shipping_tags', 'shipping_methods', 'pictures', 'descriptions', 'coverage_areas', 'sub_status',\n",
        "              'deal_ids','non_mercado_pago_payment_methods','variations','attributes','tags','shipping_free_methods'], axis=1, inplace=True)"
      ]
    },
    {
      "cell_type": "markdown",
      "metadata": {
        "id": "p9qmawylPKRY"
      },
      "source": [
        "## Model Train"
      ]
    },
    {
      "cell_type": "code",
      "execution_count": 26,
      "metadata": {
        "id": "V52I6i--WLDq"
      },
      "outputs": [],
      "source": [
        "catboost_params = {'iterations': 300,\n",
        "        'learning_rate': 0.1,\n",
        "        'eval_metric': 'F1',\n",
        "        'l2_leaf_reg': 0.5,\n",
        "        'use_best_model':True,\n",
        "        'early_stopping_rounds':30,\n",
        "        \"loss_function\": \"Logloss\",\n",
        "        }"
      ]
    },
    {
      "cell_type": "code",
      "execution_count": 27,
      "metadata": {
        "id": "o9rSSthGWLF1"
      },
      "outputs": [],
      "source": [
        "model = CatBoostClassifier(**catboost_params, random_state = 0)"
      ]
    },
    {
      "cell_type": "code",
      "execution_count": 28,
      "metadata": {
        "id": "x5WjL4lFHc8G"
      },
      "outputs": [],
      "source": [
        "X_train_2_sorted = X_train.reindex(columns = sorted(X_train.columns))\n",
        "X_test_2_sorted = X_test.reindex(columns = sorted(X_test.columns))\n",
        "\n",
        "categorical_features_indices = np.where(X_train_2_sorted.dtypes != float)[0]"
      ]
    },
    {
      "cell_type": "code",
      "execution_count": 29,
      "metadata": {
        "colab": {
          "base_uri": "https://localhost:8080/",
          "height": 1000,
          "referenced_widgets": [
            "0f754b0ff53f4b539135f4b3a16a64e4"
          ]
        },
        "id": "wkbgv7S3WLIK",
        "outputId": "a977f7e6-eb7a-49ef-ee26-f0420a0a85da"
      },
      "outputs": [
        {
          "output_type": "display_data",
          "data": {
            "text/plain": [
              "MetricVisualizer(layout=Layout(align_self='stretch', height='500px'))"
            ],
            "application/vnd.jupyter.widget-view+json": {
              "version_major": 2,
              "version_minor": 0,
              "model_id": "0f754b0ff53f4b539135f4b3a16a64e4"
            }
          },
          "metadata": {}
        },
        {
          "output_type": "stream",
          "name": "stdout",
          "text": [
            "0:\tlearn: 0.8497514\ttest: 0.8640746\tbest: 0.8640746 (0)\ttotal: 639ms\tremaining: 3m 11s\n",
            "1:\tlearn: 0.8554345\ttest: 0.8680289\tbest: 0.8680289 (1)\ttotal: 1.16s\tremaining: 2m 53s\n",
            "2:\tlearn: 0.8555926\ttest: 0.8698521\tbest: 0.8698521 (2)\ttotal: 1.73s\tremaining: 2m 51s\n",
            "3:\tlearn: 0.8579421\ttest: 0.8723810\tbest: 0.8723810 (3)\ttotal: 2.35s\tremaining: 2m 54s\n",
            "4:\tlearn: 0.8591286\ttest: 0.8729573\tbest: 0.8729573 (4)\ttotal: 2.84s\tremaining: 2m 47s\n",
            "5:\tlearn: 0.8623500\ttest: 0.8763214\tbest: 0.8763214 (5)\ttotal: 3.33s\tremaining: 2m 43s\n",
            "6:\tlearn: 0.8647778\ttest: 0.8768047\tbest: 0.8768047 (6)\ttotal: 3.88s\tremaining: 2m 42s\n",
            "7:\tlearn: 0.8662831\ttest: 0.8781936\tbest: 0.8781936 (7)\ttotal: 4.46s\tremaining: 2m 42s\n",
            "8:\tlearn: 0.8654148\ttest: 0.8783470\tbest: 0.8783470 (8)\ttotal: 5.05s\tremaining: 2m 43s\n",
            "9:\tlearn: 0.8655176\ttest: 0.8789067\tbest: 0.8789067 (9)\ttotal: 5.5s\tremaining: 2m 39s\n",
            "10:\tlearn: 0.8676123\ttest: 0.8815789\tbest: 0.8815789 (10)\ttotal: 6.07s\tremaining: 2m 39s\n",
            "11:\tlearn: 0.8695095\ttest: 0.8829573\tbest: 0.8829573 (11)\ttotal: 6.67s\tremaining: 2m 40s\n",
            "12:\tlearn: 0.8714243\ttest: 0.8849501\tbest: 0.8849501 (12)\ttotal: 7.17s\tremaining: 2m 38s\n",
            "13:\tlearn: 0.8732414\ttest: 0.8881816\tbest: 0.8881816 (13)\ttotal: 7.68s\tremaining: 2m 36s\n",
            "14:\tlearn: 0.8741606\ttest: 0.8902102\tbest: 0.8902102 (14)\ttotal: 8.25s\tremaining: 2m 36s\n",
            "15:\tlearn: 0.8752032\ttest: 0.8921475\tbest: 0.8921475 (15)\ttotal: 8.78s\tremaining: 2m 35s\n",
            "16:\tlearn: 0.8764008\ttest: 0.8926410\tbest: 0.8926410 (16)\ttotal: 9.35s\tremaining: 2m 35s\n",
            "17:\tlearn: 0.8771011\ttest: 0.8944126\tbest: 0.8944126 (17)\ttotal: 9.92s\tremaining: 2m 35s\n",
            "18:\tlearn: 0.8779389\ttest: 0.8947984\tbest: 0.8947984 (18)\ttotal: 10.4s\tremaining: 2m 34s\n",
            "19:\tlearn: 0.8786000\ttest: 0.8954526\tbest: 0.8954526 (19)\ttotal: 10.9s\tremaining: 2m 32s\n",
            "20:\tlearn: 0.8795322\ttest: 0.8966397\tbest: 0.8966397 (20)\ttotal: 11.4s\tremaining: 2m 32s\n",
            "21:\tlearn: 0.8799725\ttest: 0.8965224\tbest: 0.8966397 (20)\ttotal: 12s\tremaining: 2m 32s\n",
            "22:\tlearn: 0.8808692\ttest: 0.8967790\tbest: 0.8967790 (22)\ttotal: 12.6s\tremaining: 2m 31s\n",
            "23:\tlearn: 0.8814021\ttest: 0.8974604\tbest: 0.8974604 (23)\ttotal: 13.2s\tremaining: 2m 31s\n",
            "24:\tlearn: 0.8820401\ttest: 0.8975258\tbest: 0.8975258 (24)\ttotal: 13.8s\tremaining: 2m 31s\n",
            "25:\tlearn: 0.8822066\ttest: 0.8981934\tbest: 0.8981934 (25)\ttotal: 14.4s\tremaining: 2m 31s\n",
            "26:\tlearn: 0.8827816\ttest: 0.8983015\tbest: 0.8983015 (26)\ttotal: 15s\tremaining: 2m 31s\n",
            "27:\tlearn: 0.8829952\ttest: 0.8979288\tbest: 0.8983015 (26)\ttotal: 15.6s\tremaining: 2m 31s\n",
            "28:\tlearn: 0.8833993\ttest: 0.8982061\tbest: 0.8983015 (26)\ttotal: 16.2s\tremaining: 2m 31s\n",
            "29:\tlearn: 0.8834505\ttest: 0.8980155\tbest: 0.8983015 (26)\ttotal: 16.8s\tremaining: 2m 31s\n",
            "30:\tlearn: 0.8836511\ttest: 0.8968810\tbest: 0.8983015 (26)\ttotal: 17.4s\tremaining: 2m 31s\n",
            "31:\tlearn: 0.8839442\ttest: 0.8973788\tbest: 0.8983015 (26)\ttotal: 18s\tremaining: 2m 30s\n",
            "32:\tlearn: 0.8837825\ttest: 0.8969028\tbest: 0.8983015 (26)\ttotal: 18.6s\tremaining: 2m 30s\n",
            "33:\tlearn: 0.8842023\ttest: 0.8970276\tbest: 0.8983015 (26)\ttotal: 19.2s\tremaining: 2m 30s\n",
            "34:\tlearn: 0.8843414\ttest: 0.8974005\tbest: 0.8983015 (26)\ttotal: 19.8s\tremaining: 2m 30s\n",
            "35:\tlearn: 0.8842389\ttest: 0.8976863\tbest: 0.8983015 (26)\ttotal: 20.4s\tremaining: 2m 29s\n",
            "36:\tlearn: 0.8847996\ttest: 0.8973651\tbest: 0.8983015 (26)\ttotal: 21s\tremaining: 2m 29s\n",
            "37:\tlearn: 0.8848997\ttest: 0.8980980\tbest: 0.8983015 (26)\ttotal: 21.6s\tremaining: 2m 28s\n",
            "38:\tlearn: 0.8849047\ttest: 0.8982150\tbest: 0.8983015 (26)\ttotal: 22.2s\tremaining: 2m 28s\n",
            "39:\tlearn: 0.8849721\ttest: 0.8979592\tbest: 0.8983015 (26)\ttotal: 22.7s\tremaining: 2m 27s\n",
            "40:\tlearn: 0.8851505\ttest: 0.8977249\tbest: 0.8983015 (26)\ttotal: 23.3s\tremaining: 2m 27s\n",
            "41:\tlearn: 0.8851241\ttest: 0.8978637\tbest: 0.8983015 (26)\ttotal: 24s\tremaining: 2m 27s\n",
            "42:\tlearn: 0.8851897\ttest: 0.8976512\tbest: 0.8983015 (26)\ttotal: 24.5s\tremaining: 2m 26s\n",
            "43:\tlearn: 0.8853650\ttest: 0.8974604\tbest: 0.8983015 (26)\ttotal: 25.2s\tremaining: 2m 26s\n",
            "44:\tlearn: 0.8853576\ttest: 0.8979375\tbest: 0.8983015 (26)\ttotal: 25.7s\tremaining: 2m 25s\n",
            "45:\tlearn: 0.8857133\ttest: 0.8980025\tbest: 0.8983015 (26)\ttotal: 26.6s\tremaining: 2m 26s\n",
            "46:\tlearn: 0.8857974\ttest: 0.8985754\tbest: 0.8985754 (46)\ttotal: 27.4s\tremaining: 2m 27s\n",
            "47:\tlearn: 0.8859469\ttest: 0.8989792\tbest: 0.8989792 (47)\ttotal: 28.3s\tremaining: 2m 28s\n",
            "48:\tlearn: 0.8857782\ttest: 0.8992875\tbest: 0.8992875 (48)\ttotal: 29.1s\tremaining: 2m 29s\n",
            "49:\tlearn: 0.8859726\ttest: 0.8990006\tbest: 0.8992875 (48)\ttotal: 30s\tremaining: 2m 30s\n",
            "50:\tlearn: 0.8859172\ttest: 0.8991918\tbest: 0.8992875 (48)\ttotal: 30.9s\tremaining: 2m 31s\n",
            "51:\tlearn: 0.8860646\ttest: 0.8994045\tbest: 0.8994045 (51)\ttotal: 31.9s\tremaining: 2m 32s\n",
            "52:\tlearn: 0.8862063\ttest: 0.8997446\tbest: 0.8997446 (52)\ttotal: 32.8s\tremaining: 2m 32s\n",
            "53:\tlearn: 0.8863714\ttest: 0.8998617\tbest: 0.8998617 (53)\ttotal: 34.3s\tremaining: 2m 36s\n",
            "54:\tlearn: 0.8864556\ttest: 0.8999256\tbest: 0.8999256 (54)\ttotal: 35.7s\tremaining: 2m 38s\n",
            "55:\tlearn: 0.8865582\ttest: 0.8999043\tbest: 0.8999256 (54)\ttotal: 37.5s\tremaining: 2m 43s\n",
            "56:\tlearn: 0.8867692\ttest: 0.9001170\tbest: 0.9001170 (56)\ttotal: 38.8s\tremaining: 2m 45s\n",
            "57:\tlearn: 0.8867925\ttest: 0.9003085\tbest: 0.9003085 (57)\ttotal: 39.9s\tremaining: 2m 46s\n",
            "58:\tlearn: 0.8870588\ttest: 0.9005002\tbest: 0.9005002 (58)\ttotal: 41.4s\tremaining: 2m 48s\n",
            "59:\tlearn: 0.8872801\ttest: 0.9002128\tbest: 0.9005002 (58)\ttotal: 42.3s\tremaining: 2m 49s\n",
            "60:\tlearn: 0.8874511\ttest: 0.9009890\tbest: 0.9009890 (60)\ttotal: 42.9s\tremaining: 2m 48s\n",
            "61:\tlearn: 0.8875140\ttest: 0.9007552\tbest: 0.9009890 (60)\ttotal: 43.6s\tremaining: 2m 47s\n",
            "62:\tlearn: 0.8875324\ttest: 0.9006383\tbest: 0.9009890 (60)\ttotal: 44.2s\tremaining: 2m 46s\n",
            "63:\tlearn: 0.8875297\ttest: 0.9005213\tbest: 0.9009890 (60)\ttotal: 44.4s\tremaining: 2m 43s\n",
            "64:\tlearn: 0.8875006\ttest: 0.9007341\tbest: 0.9009890 (60)\ttotal: 44.9s\tremaining: 2m 42s\n",
            "65:\tlearn: 0.8876293\ttest: 0.9008089\tbest: 0.9009890 (60)\ttotal: 45.5s\tremaining: 2m 41s\n",
            "66:\tlearn: 0.8878210\ttest: 0.9009469\tbest: 0.9009890 (60)\ttotal: 46.1s\tremaining: 2m 40s\n",
            "67:\tlearn: 0.8878683\ttest: 0.9009258\tbest: 0.9009890 (60)\ttotal: 46.6s\tremaining: 2m 38s\n",
            "68:\tlearn: 0.8878947\ttest: 0.9009258\tbest: 0.9009890 (60)\ttotal: 47.2s\tremaining: 2m 37s\n",
            "69:\tlearn: 0.8879973\ttest: 0.9012766\tbest: 0.9012766 (69)\ttotal: 47.8s\tremaining: 2m 36s\n",
            "70:\tlearn: 0.8880500\ttest: 0.9012766\tbest: 0.9012766 (69)\ttotal: 48.4s\tremaining: 2m 36s\n",
            "71:\tlearn: 0.8878763\ttest: 0.9014894\tbest: 0.9014894 (71)\ttotal: 49s\tremaining: 2m 35s\n",
            "72:\tlearn: 0.8880815\ttest: 0.9013515\tbest: 0.9014894 (71)\ttotal: 49.6s\tremaining: 2m 34s\n",
            "73:\tlearn: 0.8881867\ttest: 0.9013515\tbest: 0.9014894 (71)\ttotal: 50.1s\tremaining: 2m 32s\n",
            "74:\tlearn: 0.8884075\ttest: 0.9010428\tbest: 0.9014894 (71)\ttotal: 50.6s\tremaining: 2m 31s\n",
            "75:\tlearn: 0.8884128\ttest: 0.9009258\tbest: 0.9014894 (71)\ttotal: 51.2s\tremaining: 2m 30s\n",
            "76:\tlearn: 0.8884680\ttest: 0.9009258\tbest: 0.9014894 (71)\ttotal: 51.8s\tremaining: 2m 30s\n",
            "77:\tlearn: 0.8885680\ttest: 0.9012556\tbest: 0.9014894 (71)\ttotal: 52.4s\tremaining: 2m 29s\n",
            "78:\tlearn: 0.8885102\ttest: 0.9010217\tbest: 0.9014894 (71)\ttotal: 52.9s\tremaining: 2m 28s\n",
            "79:\tlearn: 0.8884471\ttest: 0.9009047\tbest: 0.9014894 (71)\ttotal: 53.5s\tremaining: 2m 27s\n",
            "80:\tlearn: 0.8885970\ttest: 0.9011387\tbest: 0.9014894 (71)\ttotal: 54.1s\tremaining: 2m 26s\n",
            "81:\tlearn: 0.8886259\ttest: 0.9010428\tbest: 0.9014894 (71)\ttotal: 54.7s\tremaining: 2m 25s\n",
            "82:\tlearn: 0.8887100\ttest: 0.9015853\tbest: 0.9015853 (82)\ttotal: 55.3s\tremaining: 2m 24s\n",
            "83:\tlearn: 0.8887837\ttest: 0.9014684\tbest: 0.9015853 (82)\ttotal: 55.8s\tremaining: 2m 23s\n",
            "84:\tlearn: 0.8887942\ttest: 0.9016603\tbest: 0.9016603 (84)\ttotal: 56.5s\tremaining: 2m 22s\n",
            "85:\tlearn: 0.8888731\ttest: 0.9019691\tbest: 0.9019691 (85)\ttotal: 57s\tremaining: 2m 21s\n",
            "86:\tlearn: 0.8889652\ttest: 0.9020651\tbest: 0.9020651 (86)\ttotal: 57.6s\tremaining: 2m 21s\n",
            "87:\tlearn: 0.8889257\ttest: 0.9021612\tbest: 0.9021612 (87)\ttotal: 58.2s\tremaining: 2m 20s\n",
            "88:\tlearn: 0.8891150\ttest: 0.9022572\tbest: 0.9022572 (88)\ttotal: 58.7s\tremaining: 2m 19s\n",
            "89:\tlearn: 0.8892176\ttest: 0.9023949\tbest: 0.9023949 (89)\ttotal: 59.3s\tremaining: 2m 18s\n",
            "90:\tlearn: 0.8893437\ttest: 0.9023533\tbest: 0.9023949 (89)\ttotal: 59.8s\tremaining: 2m 17s\n",
            "91:\tlearn: 0.8892333\ttest: 0.9021403\tbest: 0.9023949 (89)\ttotal: 1m\tremaining: 2m 16s\n",
            "92:\tlearn: 0.8893095\ttest: 0.9022364\tbest: 0.9023949 (89)\ttotal: 1m\tremaining: 2m 15s\n",
            "93:\tlearn: 0.8893227\ttest: 0.9021612\tbest: 0.9023949 (89)\ttotal: 1m 1s\tremaining: 2m 15s\n",
            "94:\tlearn: 0.8893937\ttest: 0.9021612\tbest: 0.9023949 (89)\ttotal: 1m 2s\tremaining: 2m 14s\n",
            "95:\tlearn: 0.8894673\ttest: 0.9025870\tbest: 0.9025870 (95)\ttotal: 1m 3s\tremaining: 2m 15s\n",
            "96:\tlearn: 0.8896250\ttest: 0.9024702\tbest: 0.9025870 (95)\ttotal: 1m 4s\tremaining: 2m 14s\n",
            "97:\tlearn: 0.8897856\ttest: 0.9025455\tbest: 0.9025870 (95)\ttotal: 1m 4s\tremaining: 2m 13s\n",
            "98:\tlearn: 0.8899750\ttest: 0.9026624\tbest: 0.9026624 (98)\ttotal: 1m 5s\tremaining: 2m 12s\n",
            "99:\tlearn: 0.8900958\ttest: 0.9029509\tbest: 0.9029509 (99)\ttotal: 1m 5s\tremaining: 2m 11s\n",
            "100:\tlearn: 0.8900671\ttest: 0.9028547\tbest: 0.9029509 (99)\ttotal: 1m 6s\tremaining: 2m 10s\n",
            "101:\tlearn: 0.8901248\ttest: 0.9029509\tbest: 0.9029509 (99)\ttotal: 1m 6s\tremaining: 2m 9s\n",
            "102:\tlearn: 0.8901433\ttest: 0.9030471\tbest: 0.9030471 (102)\ttotal: 1m 7s\tremaining: 2m 8s\n",
            "103:\tlearn: 0.8901115\ttest: 0.9031846\tbest: 0.9031846 (103)\ttotal: 1m 8s\tremaining: 2m 8s\n",
            "104:\tlearn: 0.8901958\ttest: 0.9035901\tbest: 0.9035901 (104)\ttotal: 1m 8s\tremaining: 2m 7s\n",
            "105:\tlearn: 0.8902850\ttest: 0.9035901\tbest: 0.9035901 (104)\ttotal: 1m 9s\tremaining: 2m 6s\n",
            "106:\tlearn: 0.8903879\ttest: 0.9035901\tbest: 0.9035901 (104)\ttotal: 1m 9s\tremaining: 2m 5s\n",
            "107:\tlearn: 0.8905376\ttest: 0.9033770\tbest: 0.9035901 (104)\ttotal: 1m 10s\tremaining: 2m 5s\n",
            "108:\tlearn: 0.8905718\ttest: 0.9036863\tbest: 0.9036863 (108)\ttotal: 1m 10s\tremaining: 2m 4s\n",
            "109:\tlearn: 0.8906268\ttest: 0.9038031\tbest: 0.9038031 (109)\ttotal: 1m 11s\tremaining: 2m 3s\n",
            "110:\tlearn: 0.8908239\ttest: 0.9037069\tbest: 0.9038031 (109)\ttotal: 1m 12s\tremaining: 2m 2s\n",
            "111:\tlearn: 0.8908450\ttest: 0.9035901\tbest: 0.9038031 (109)\ttotal: 1m 12s\tremaining: 2m 2s\n",
            "112:\tlearn: 0.8908766\ttest: 0.9035901\tbest: 0.9038031 (109)\ttotal: 1m 13s\tremaining: 2m 1s\n",
            "113:\tlearn: 0.8910104\ttest: 0.9036863\tbest: 0.9038031 (109)\ttotal: 1m 13s\tremaining: 2m\n",
            "114:\tlearn: 0.8911207\ttest: 0.9034733\tbest: 0.9038031 (109)\ttotal: 1m 14s\tremaining: 1m 59s\n",
            "115:\tlearn: 0.8909975\ttest: 0.9035695\tbest: 0.9038031 (109)\ttotal: 1m 15s\tremaining: 1m 59s\n",
            "116:\tlearn: 0.8911027\ttest: 0.9035695\tbest: 0.9038031 (109)\ttotal: 1m 15s\tremaining: 1m 58s\n",
            "117:\tlearn: 0.8911842\ttest: 0.9035695\tbest: 0.9038031 (109)\ttotal: 1m 16s\tremaining: 1m 58s\n",
            "118:\tlearn: 0.8912658\ttest: 0.9037416\tbest: 0.9038031 (109)\ttotal: 1m 17s\tremaining: 1m 58s\n",
            "119:\tlearn: 0.8914234\ttest: 0.9036453\tbest: 0.9038031 (109)\ttotal: 1m 18s\tremaining: 1m 57s\n",
            "120:\tlearn: 0.8914445\ttest: 0.9036453\tbest: 0.9038031 (109)\ttotal: 1m 18s\tremaining: 1m 56s\n",
            "121:\tlearn: 0.8914314\ttest: 0.9037416\tbest: 0.9038031 (109)\ttotal: 1m 19s\tremaining: 1m 55s\n",
            "122:\tlearn: 0.8914288\ttest: 0.9034115\tbest: 0.9038031 (109)\ttotal: 1m 20s\tremaining: 1m 55s\n",
            "123:\tlearn: 0.8915075\ttest: 0.9035284\tbest: 0.9038031 (109)\ttotal: 1m 20s\tremaining: 1m 54s\n",
            "124:\tlearn: 0.8916809\ttest: 0.9033564\tbest: 0.9038031 (109)\ttotal: 1m 21s\tremaining: 1m 53s\n",
            "125:\tlearn: 0.8917122\ttest: 0.9035490\tbest: 0.9038031 (109)\ttotal: 1m 21s\tremaining: 1m 52s\n",
            "126:\tlearn: 0.8917464\ttest: 0.9035490\tbest: 0.9038031 (109)\ttotal: 1m 22s\tremaining: 1m 52s\n",
            "127:\tlearn: 0.8917883\ttest: 0.9035901\tbest: 0.9038031 (109)\ttotal: 1m 22s\tremaining: 1m 51s\n",
            "128:\tlearn: 0.8918385\ttest: 0.9032396\tbest: 0.9038031 (109)\ttotal: 1m 23s\tremaining: 1m 50s\n",
            "129:\tlearn: 0.8919255\ttest: 0.9034733\tbest: 0.9038031 (109)\ttotal: 1m 24s\tremaining: 1m 50s\n",
            "130:\tlearn: 0.8920594\ttest: 0.9032602\tbest: 0.9038031 (109)\ttotal: 1m 24s\tremaining: 1m 49s\n",
            "131:\tlearn: 0.8922145\ttest: 0.9034938\tbest: 0.9038031 (109)\ttotal: 1m 25s\tremaining: 1m 48s\n",
            "132:\tlearn: 0.8922826\ttest: 0.9033564\tbest: 0.9038031 (109)\ttotal: 1m 26s\tremaining: 1m 48s\n",
            "133:\tlearn: 0.8923248\ttest: 0.9038789\tbest: 0.9038789 (133)\ttotal: 1m 26s\tremaining: 1m 47s\n",
            "134:\tlearn: 0.8923095\ttest: 0.9038994\tbest: 0.9038994 (134)\ttotal: 1m 27s\tremaining: 1m 46s\n",
            "135:\tlearn: 0.8923463\ttest: 0.9037826\tbest: 0.9038994 (134)\ttotal: 1m 27s\tremaining: 1m 46s\n",
            "136:\tlearn: 0.8923619\ttest: 0.9036658\tbest: 0.9038994 (134)\ttotal: 1m 28s\tremaining: 1m 45s\n",
            "137:\tlearn: 0.8924642\ttest: 0.9036658\tbest: 0.9038994 (134)\ttotal: 1m 29s\tremaining: 1m 44s\n",
            "138:\tlearn: 0.8926649\ttest: 0.9040716\tbest: 0.9040716 (138)\ttotal: 1m 29s\tremaining: 1m 44s\n",
            "139:\tlearn: 0.8926936\ttest: 0.9044219\tbest: 0.9044219 (139)\ttotal: 1m 30s\tremaining: 1m 43s\n",
            "140:\tlearn: 0.8927329\ttest: 0.9039548\tbest: 0.9044219 (139)\ttotal: 1m 31s\tremaining: 1m 42s\n",
            "141:\tlearn: 0.8927752\ttest: 0.9036658\tbest: 0.9044219 (139)\ttotal: 1m 31s\tremaining: 1m 41s\n",
            "142:\tlearn: 0.8928512\ttest: 0.9037621\tbest: 0.9044219 (139)\ttotal: 1m 32s\tremaining: 1m 41s\n",
            "143:\tlearn: 0.8928855\ttest: 0.9037621\tbest: 0.9044219 (139)\ttotal: 1m 32s\tremaining: 1m 40s\n",
            "144:\tlearn: 0.8929721\ttest: 0.9037211\tbest: 0.9044219 (139)\ttotal: 1m 33s\tremaining: 1m 39s\n",
            "145:\tlearn: 0.8929222\ttest: 0.9037416\tbest: 0.9044219 (139)\ttotal: 1m 33s\tremaining: 1m 39s\n",
            "146:\tlearn: 0.8929302\ttest: 0.9037621\tbest: 0.9044219 (139)\ttotal: 1m 34s\tremaining: 1m 38s\n",
            "147:\tlearn: 0.8932142\ttest: 0.9037621\tbest: 0.9044219 (139)\ttotal: 1m 35s\tremaining: 1m 37s\n",
            "148:\tlearn: 0.8933557\ttest: 0.9039957\tbest: 0.9044219 (139)\ttotal: 1m 35s\tremaining: 1m 36s\n",
            "149:\tlearn: 0.8932425\ttest: 0.9040162\tbest: 0.9044219 (139)\ttotal: 1m 36s\tremaining: 1m 36s\n",
            "150:\tlearn: 0.8932822\ttest: 0.9040716\tbest: 0.9044219 (139)\ttotal: 1m 36s\tremaining: 1m 35s\n",
            "151:\tlearn: 0.8932586\ttest: 0.9041884\tbest: 0.9044219 (139)\ttotal: 1m 37s\tremaining: 1m 34s\n",
            "152:\tlearn: 0.8932953\ttest: 0.9041884\tbest: 0.9044219 (139)\ttotal: 1m 38s\tremaining: 1m 34s\n",
            "153:\tlearn: 0.8932928\ttest: 0.9041884\tbest: 0.9044219 (139)\ttotal: 1m 38s\tremaining: 1m 33s\n",
            "154:\tlearn: 0.8933165\ttest: 0.9041884\tbest: 0.9044219 (139)\ttotal: 1m 39s\tremaining: 1m 32s\n",
            "155:\tlearn: 0.8933718\ttest: 0.9042644\tbest: 0.9044219 (139)\ttotal: 1m 39s\tremaining: 1m 32s\n",
            "156:\tlearn: 0.8935485\ttest: 0.9041067\tbest: 0.9044219 (139)\ttotal: 1m 40s\tremaining: 1m 31s\n",
            "157:\tlearn: 0.8935747\ttest: 0.9039898\tbest: 0.9044219 (139)\ttotal: 1m 40s\tremaining: 1m 30s\n",
            "158:\tlearn: 0.8935989\ttest: 0.9039898\tbest: 0.9044219 (139)\ttotal: 1m 41s\tremaining: 1m 30s\n",
            "159:\tlearn: 0.8937253\ttest: 0.9041067\tbest: 0.9044219 (139)\ttotal: 1m 42s\tremaining: 1m 29s\n",
            "160:\tlearn: 0.8937409\ttest: 0.9043200\tbest: 0.9044219 (139)\ttotal: 1m 42s\tremaining: 1m 28s\n",
            "161:\tlearn: 0.8938280\ttest: 0.9044165\tbest: 0.9044219 (139)\ttotal: 1m 43s\tremaining: 1m 27s\n",
            "162:\tlearn: 0.8939433\ttest: 0.9046298\tbest: 0.9046298 (162)\ttotal: 1m 43s\tremaining: 1m 27s\n",
            "163:\tlearn: 0.8939252\ttest: 0.9045130\tbest: 0.9046298 (162)\ttotal: 1m 44s\tremaining: 1m 26s\n",
            "164:\tlearn: 0.8940480\ttest: 0.9047263\tbest: 0.9047263 (164)\ttotal: 1m 44s\tremaining: 1m 25s\n",
            "165:\tlearn: 0.8941029\ttest: 0.9047263\tbest: 0.9047263 (164)\ttotal: 1m 45s\tremaining: 1m 25s\n",
            "166:\tlearn: 0.8941341\ttest: 0.9048432\tbest: 0.9048432 (166)\ttotal: 1m 46s\tremaining: 1m 24s\n",
            "167:\tlearn: 0.8943315\ttest: 0.9046095\tbest: 0.9048432 (166)\ttotal: 1m 46s\tremaining: 1m 23s\n",
            "168:\tlearn: 0.8944759\ttest: 0.9047060\tbest: 0.9048432 (166)\ttotal: 1m 47s\tremaining: 1m 23s\n",
            "169:\tlearn: 0.8944136\ttest: 0.9049397\tbest: 0.9049397 (169)\ttotal: 1m 47s\tremaining: 1m 22s\n",
            "170:\tlearn: 0.8944535\ttest: 0.9049397\tbest: 0.9049397 (169)\ttotal: 1m 48s\tremaining: 1m 21s\n",
            "171:\tlearn: 0.8945980\ttest: 0.9050363\tbest: 0.9050363 (171)\ttotal: 1m 49s\tremaining: 1m 21s\n",
            "172:\tlearn: 0.8946590\ttest: 0.9049397\tbest: 0.9050363 (171)\ttotal: 1m 49s\tremaining: 1m 20s\n",
            "173:\tlearn: 0.8948197\ttest: 0.9049194\tbest: 0.9050363 (171)\ttotal: 1m 50s\tremaining: 1m 19s\n",
            "174:\tlearn: 0.8949480\ttest: 0.9050363\tbest: 0.9050363 (171)\ttotal: 1m 50s\tremaining: 1m 19s\n",
            "175:\tlearn: 0.8949667\ttest: 0.9051531\tbest: 0.9051531 (175)\ttotal: 1m 51s\tremaining: 1m 18s\n",
            "176:\tlearn: 0.8949013\ttest: 0.9051531\tbest: 0.9051531 (175)\ttotal: 1m 52s\tremaining: 1m 17s\n",
            "177:\tlearn: 0.8948832\ttest: 0.9049194\tbest: 0.9051531 (175)\ttotal: 1m 52s\tremaining: 1m 17s\n",
            "178:\tlearn: 0.8950577\ttest: 0.9049194\tbest: 0.9051531 (175)\ttotal: 1m 53s\tremaining: 1m 16s\n",
            "179:\tlearn: 0.8950676\ttest: 0.9050363\tbest: 0.9051531 (175)\ttotal: 1m 53s\tremaining: 1m 15s\n",
            "180:\tlearn: 0.8952034\ttest: 0.9050363\tbest: 0.9051531 (175)\ttotal: 1m 54s\tremaining: 1m 15s\n",
            "181:\tlearn: 0.8951872\ttest: 0.9054429\tbest: 0.9054429 (181)\ttotal: 1m 54s\tremaining: 1m 14s\n",
            "182:\tlearn: 0.8952974\ttest: 0.9055395\tbest: 0.9055395 (182)\ttotal: 1m 55s\tremaining: 1m 13s\n",
            "183:\tlearn: 0.8954295\ttest: 0.9055395\tbest: 0.9055395 (182)\ttotal: 1m 56s\tremaining: 1m 13s\n",
            "184:\tlearn: 0.8955397\ttest: 0.9054429\tbest: 0.9055395 (182)\ttotal: 1m 56s\tremaining: 1m 12s\n",
            "185:\tlearn: 0.8955005\ttest: 0.9054429\tbest: 0.9055395 (182)\ttotal: 1m 57s\tremaining: 1m 11s\n",
            "186:\tlearn: 0.8956376\ttest: 0.9054227\tbest: 0.9055395 (182)\ttotal: 1m 57s\tremaining: 1m 11s\n",
            "187:\tlearn: 0.8955747\ttest: 0.9055597\tbest: 0.9055597 (187)\ttotal: 1m 58s\tremaining: 1m 10s\n",
            "188:\tlearn: 0.8956439\ttest: 0.9056765\tbest: 0.9056765 (188)\ttotal: 1m 58s\tremaining: 1m 9s\n",
            "189:\tlearn: 0.8957404\ttest: 0.9058899\tbest: 0.9058899 (189)\ttotal: 1m 59s\tremaining: 1m 9s\n",
            "190:\tlearn: 0.8957273\ttest: 0.9057530\tbest: 0.9058899 (189)\ttotal: 2m\tremaining: 1m 8s\n",
            "191:\tlearn: 0.8957453\ttest: 0.9057530\tbest: 0.9058899 (189)\ttotal: 2m\tremaining: 1m 7s\n",
            "192:\tlearn: 0.8957796\ttest: 0.9057530\tbest: 0.9058899 (189)\ttotal: 2m 1s\tremaining: 1m 7s\n",
            "193:\tlearn: 0.8957640\ttest: 0.9057530\tbest: 0.9058899 (189)\ttotal: 2m 1s\tremaining: 1m 6s\n",
            "194:\tlearn: 0.8957665\ttest: 0.9060632\tbest: 0.9060632 (194)\ttotal: 2m 2s\tremaining: 1m 5s\n",
            "195:\tlearn: 0.8957820\ttest: 0.9060632\tbest: 0.9060632 (194)\ttotal: 2m 3s\tremaining: 1m 5s\n",
            "196:\tlearn: 0.8958000\ttest: 0.9057731\tbest: 0.9060632 (194)\ttotal: 2m 3s\tremaining: 1m 4s\n",
            "197:\tlearn: 0.8958605\ttest: 0.9055597\tbest: 0.9060632 (194)\ttotal: 2m 4s\tremaining: 1m 4s\n",
            "198:\tlearn: 0.8959004\ttest: 0.9057932\tbest: 0.9060632 (194)\ttotal: 2m 4s\tremaining: 1m 3s\n",
            "199:\tlearn: 0.8958580\ttest: 0.9059100\tbest: 0.9060632 (194)\ttotal: 2m 5s\tremaining: 1m 2s\n",
            "200:\tlearn: 0.8959371\ttest: 0.9059300\tbest: 0.9060632 (194)\ttotal: 2m 6s\tremaining: 1m 2s\n",
            "201:\tlearn: 0.8960473\ttest: 0.9062600\tbest: 0.9062600 (201)\ttotal: 2m 6s\tremaining: 1m 1s\n",
            "202:\tlearn: 0.8960049\ttest: 0.9064533\tbest: 0.9064533 (202)\ttotal: 2m 7s\tremaining: 1m\n",
            "203:\tlearn: 0.8960996\ttest: 0.9065500\tbest: 0.9065500 (203)\ttotal: 2m 7s\tremaining: 1m\n",
            "204:\tlearn: 0.8961176\ttest: 0.9063567\tbest: 0.9065500 (203)\ttotal: 2m 8s\tremaining: 59.5s\n",
            "205:\tlearn: 0.8960507\ttest: 0.9063367\tbest: 0.9065500 (203)\ttotal: 2m 9s\tremaining: 59s\n",
            "206:\tlearn: 0.8960295\ttest: 0.9064334\tbest: 0.9065500 (203)\ttotal: 2m 9s\tremaining: 58.3s\n",
            "207:\tlearn: 0.8960769\ttest: 0.9062400\tbest: 0.9065500 (203)\ttotal: 2m 10s\tremaining: 57.7s\n",
            "208:\tlearn: 0.8960850\ttest: 0.9063567\tbest: 0.9065500 (203)\ttotal: 2m 10s\tremaining: 57s\n",
            "209:\tlearn: 0.8961348\ttest: 0.9062400\tbest: 0.9065500 (203)\ttotal: 2m 11s\tremaining: 56.4s\n",
            "210:\tlearn: 0.8961013\ttest: 0.9062200\tbest: 0.9065500 (203)\ttotal: 2m 12s\tremaining: 55.7s\n",
            "211:\tlearn: 0.8962065\ttest: 0.9063167\tbest: 0.9065500 (203)\ttotal: 2m 12s\tremaining: 55.1s\n",
            "212:\tlearn: 0.8961984\ttest: 0.9062000\tbest: 0.9065500 (203)\ttotal: 2m 13s\tremaining: 54.4s\n",
            "213:\tlearn: 0.8962228\ttest: 0.9060832\tbest: 0.9065500 (203)\ttotal: 2m 13s\tremaining: 53.8s\n",
            "214:\tlearn: 0.8962391\ttest: 0.9060832\tbest: 0.9065500 (203)\ttotal: 2m 14s\tremaining: 53.2s\n",
            "215:\tlearn: 0.8963158\ttest: 0.9059665\tbest: 0.9065500 (203)\ttotal: 2m 15s\tremaining: 52.6s\n",
            "216:\tlearn: 0.8964285\ttest: 0.9060832\tbest: 0.9065500 (203)\ttotal: 2m 15s\tremaining: 51.9s\n",
            "217:\tlearn: 0.8965632\ttest: 0.9061800\tbest: 0.9065500 (203)\ttotal: 2m 16s\tremaining: 51.3s\n",
            "218:\tlearn: 0.8966717\ttest: 0.9060431\tbest: 0.9065500 (203)\ttotal: 2m 17s\tremaining: 50.7s\n",
            "219:\tlearn: 0.8966881\ttest: 0.9062567\tbest: 0.9065500 (203)\ttotal: 2m 17s\tremaining: 50.1s\n",
            "220:\tlearn: 0.8968089\ttest: 0.9064902\tbest: 0.9065500 (203)\ttotal: 2m 18s\tremaining: 49.4s\n",
            "221:\tlearn: 0.8967378\ttest: 0.9065101\tbest: 0.9065500 (203)\ttotal: 2m 18s\tremaining: 48.8s\n",
            "222:\tlearn: 0.8967795\ttest: 0.9064134\tbest: 0.9065500 (203)\ttotal: 2m 19s\tremaining: 48.3s\n",
            "223:\tlearn: 0.8968513\ttest: 0.9061033\tbest: 0.9065500 (203)\ttotal: 2m 20s\tremaining: 47.7s\n",
            "224:\tlearn: 0.8968856\ttest: 0.9060066\tbest: 0.9065500 (203)\ttotal: 2m 21s\tremaining: 47s\n",
            "225:\tlearn: 0.8969795\ttest: 0.9060066\tbest: 0.9065500 (203)\ttotal: 2m 21s\tremaining: 46.4s\n",
            "226:\tlearn: 0.8970277\ttest: 0.9060066\tbest: 0.9065500 (203)\ttotal: 2m 22s\tremaining: 45.7s\n",
            "227:\tlearn: 0.8970856\ttest: 0.9058899\tbest: 0.9065500 (203)\ttotal: 2m 22s\tremaining: 45.1s\n",
            "228:\tlearn: 0.8971354\ttest: 0.9058698\tbest: 0.9065500 (203)\ttotal: 2m 23s\tremaining: 44.4s\n",
            "229:\tlearn: 0.8970383\ttest: 0.9061599\tbest: 0.9065500 (203)\ttotal: 2m 23s\tremaining: 43.8s\n",
            "230:\tlearn: 0.8971755\ttest: 0.9059665\tbest: 0.9065500 (203)\ttotal: 2m 24s\tremaining: 43.2s\n",
            "231:\tlearn: 0.8971706\ttest: 0.9061800\tbest: 0.9065500 (203)\ttotal: 2m 25s\tremaining: 42.5s\n",
            "232:\tlearn: 0.8972449\ttest: 0.9059464\tbest: 0.9065500 (203)\ttotal: 2m 25s\tremaining: 41.9s\n",
            "233:\tlearn: 0.8972792\ttest: 0.9059464\tbest: 0.9065500 (203)\ttotal: 2m 26s\tremaining: 41.3s\n",
            "Stopped by overfitting detector  (30 iterations wait)\n",
            "\n",
            "bestTest = 0.906550032\n",
            "bestIteration = 203\n",
            "\n",
            "Shrink model to first 204 iterations.\n"
          ]
        },
        {
          "output_type": "execute_result",
          "data": {
            "text/plain": [
              "<catboost.core.CatBoostClassifier at 0x7fa5b1cba950>"
            ]
          },
          "metadata": {},
          "execution_count": 29
        }
      ],
      "source": [
        "model.fit(X_train_2_sorted,\n",
        "          y_train, \n",
        "          cat_features=categorical_features_indices,\n",
        "          eval_set=(X_test_2_sorted, y_test),\n",
        "          plot=True\n",
        "          #verbose = False\n",
        "          )"
      ]
    },
    {
      "cell_type": "code",
      "execution_count": 29,
      "metadata": {
        "id": "xava_VUwOE3e"
      },
      "outputs": [],
      "source": [
        ""
      ]
    },
    {
      "cell_type": "code",
      "execution_count": 30,
      "metadata": {
        "id": "Ub0o3zUML-CF",
        "colab": {
          "base_uri": "https://localhost:8080/",
          "height": 786
        },
        "outputId": "eebb0eaf-a61c-4894-82e4-0bed90fd9a87"
      },
      "outputs": [
        {
          "output_type": "execute_result",
          "data": {
            "text/plain": [
              "Text(0.5, 0, 'Model Feature Importance')"
            ]
          },
          "metadata": {},
          "execution_count": 30
        },
        {
          "output_type": "display_data",
          "data": {
            "text/plain": [
              "<Figure size 720x936 with 1 Axes>"
            ],
            "image/png": "[encoded data removed]"
          },
          "metadata": {
            "needs_background": "light"
          }
        }
      ],
      "source": [
        "sorted_feature_importance = model.feature_importances_.argsort()\n",
        "\n",
        "plt.figure(figsize = (10,13))\n",
        "plt.barh(X_train_2_sorted.columns[sorted_feature_importance],\n",
        "        model.feature_importances_[sorted_feature_importance], \n",
        "        color='purple')\n",
        "\n",
        "plt.xlabel(\"Model Feature Importance\")"
      ]
    },
    {
      "cell_type": "code",
      "execution_count": 30,
      "metadata": {
        "id": "ECO8TiiCL-Hm"
      },
      "outputs": [],
      "source": [
        ""
      ]
    },
    {
      "cell_type": "markdown",
      "metadata": {
        "id": "br1ZAGBTUGEY"
      },
      "source": [
        "## Model Evaluation"
      ]
    },
    {
      "cell_type": "code",
      "execution_count": 31,
      "metadata": {
        "id": "C-Dzf3-f1Gc0"
      },
      "outputs": [],
      "source": [
        "from sklearn.metrics import (confusion_matrix, precision_recall_curve, auc,\n",
        "                             roc_curve, recall_score, classification_report, f1_score,\n",
        "                             precision_recall_fscore_support)"
      ]
    },
    {
      "cell_type": "code",
      "execution_count": 32,
      "metadata": {
        "id": "6IZG4jV8xaX2"
      },
      "outputs": [],
      "source": [
        "predictions_probs = model.predict_proba(X_test_2_sorted)"
      ]
    },
    {
      "cell_type": "code",
      "execution_count": 33,
      "metadata": {
        "colab": {
          "base_uri": "https://localhost:8080/"
        },
        "id": "-SAQ9j6RUVus",
        "outputId": "efc3c6b8-2f06-45c7-e5c0-036e984f6a5a"
      },
      "outputs": [
        {
          "output_type": "stream",
          "name": "stdout",
          "text": [
            "Classification report\n",
            "              precision    recall  f1-score   support\n",
            "\n",
            "           0       0.93      0.90      0.92      5406\n",
            "           1       0.89      0.92      0.91      4594\n",
            "\n",
            "    accuracy                           0.91     10000\n",
            "   macro avg       0.91      0.91      0.91     10000\n",
            "weighted avg       0.91      0.91      0.91     10000\n",
            "\n",
            "Confusion matrix\n",
            "[[4875  531]\n",
            " [ 345 4249]]\n",
            "\n"
          ]
        }
      ],
      "source": [
        "# Print metrics\n",
        "print(\"Classification report\")\n",
        "\n",
        "test_pred = np.argmax(predictions_probs, axis=1)\n",
        "\n",
        "print(classification_report(y_test, test_pred, target_names=list(map(lambda x: str(x),np.unique(y_test)))))\n",
        "\n",
        "print(\"Confusion matrix\")\n",
        "print(metrics.confusion_matrix(y_test, test_pred))\n",
        "print(\"\")\n"
      ]
    },
    {
      "cell_type": "code",
      "execution_count": 34,
      "metadata": {
        "colab": {
          "base_uri": "https://localhost:8080/",
          "height": 296
        },
        "id": "OGT6LEyjWLKX",
        "outputId": "485175fd-6d44-4e3c-9e4d-6c08b7dd5bdc"
      },
      "outputs": [
        {
          "output_type": "display_data",
          "data": {
            "text/plain": [
              "<Figure size 432x288 with 1 Axes>"
            ],
            "image/png": "[encoded data removed]"
          },
          "metadata": {
            "needs_background": "light"
          }
        },
        {
          "output_type": "display_data",
          "data": {
            "text/plain": [
              "<Figure size 432x288 with 0 Axes>"
            ]
          },
          "metadata": {}
        }
      ],
      "source": [
        "# Precision - Recall \n",
        "\n",
        "def plot_prec_recall_vs_tresh(precision, recall, threshold):\n",
        "    \n",
        "    plt.plot(threshold, precision[:-1], 'b--', label='precision')\n",
        "    plt.plot(threshold, recall[:-1], 'g--', label = 'recall')\n",
        "    plt.xlabel('Threshold')\n",
        "    plt.legend()\n",
        "    \n",
        "    return plt.figure()\n",
        "\n",
        "\n",
        "precision, recall, threshold = precision_recall_curve(y_test, predictions_probs[:,1])\n",
        "\n",
        "fig = plot_prec_recall_vs_tresh(precision, recall, threshold)\n",
        "plt.show(fig)"
      ]
    },
    {
      "cell_type": "code",
      "execution_count": 35,
      "metadata": {
        "colab": {
          "base_uri": "https://localhost:8080/",
          "height": 296
        },
        "id": "yTh4kzYbe_9h",
        "outputId": "7bc7ebb1-0f07-478e-fe81-6df0b729ed25"
      },
      "outputs": [
        {
          "output_type": "stream",
          "name": "stdout",
          "text": [
            "AUC: 0.9711387249143997\n"
          ]
        },
        {
          "output_type": "display_data",
          "data": {
            "text/plain": [
              "<Figure size 432x288 with 1 Axes>"
            ],
            "image/png": "[encoded data removed]"
          },
          "metadata": {
            "needs_background": "light"
          }
        }
      ],
      "source": [
        "## ROC AUC\n",
        "\n",
        "fpr, tpr, _ = roc_curve(y_test, predictions_probs[:,1])\n",
        "\n",
        "roc_display = RocCurveDisplay(fpr=fpr, tpr=tpr).plot()\n",
        "\n",
        "print(f\"AUC: {roc_auc_score(y_test, predictions_probs[:,1])}\")"
      ]
    },
    {
      "cell_type": "code",
      "execution_count": 35,
      "metadata": {
        "id": "_cg_1TTnlEmN"
      },
      "outputs": [],
      "source": [
        ""
      ]
    },
    {
      "cell_type": "markdown",
      "metadata": {
        "id": "PboNTNQslvho"
      },
      "source": [
        "## Hyperparameter Optimization"
      ]
    },
    {
      "cell_type": "code",
      "execution_count": 36,
      "metadata": {
        "id": "25Yi08AElh5L"
      },
      "outputs": [],
      "source": [
        "grid = {'iterations': [200, 300, 400],\n",
        "        'learning_rate': [0.05, 0.1, 0.2],\n",
        "        'depth': [2, 4, 6],\n",
        "        'l2_leaf_reg': [0.2, 0.5, 1]}"
      ]
    },
    {
      "cell_type": "code",
      "execution_count": 37,
      "metadata": {
        "id": "MMtro_iPWLMj"
      },
      "outputs": [],
      "source": [
        "search = GridSearchCV(model, grid)\n",
        "\n",
        "search.fit(X_train_2_sorted, \n",
        "           y_train, \n",
        "           eval_set=(X_test_2_sorted, y_test),\n",
        "           plot = True, \n",
        "           verbose = False,\n",
        "           cat_features=categorical_features_indices)"
      ]
    },
    {
      "cell_type": "code",
      "execution_count": null,
      "metadata": {
        "id": "AAG_qO6ULD9A"
      },
      "outputs": [],
      "source": [
        "print(\" Results from Grid Search \" )\n",
        "print(\"\\n The best estimator across ALL searched params:\\n\",search.best_estimator_)\n",
        "print(\"\\n The best score across ALL searched params:\\n\",search.best_score_)\n",
        "print(\"\\n The best parameters across ALL searched params:\\n\",search.best_params_)"
      ]
    },
    {
      "cell_type": "code",
      "execution_count": null,
      "metadata": {
        "id": "6ZgzpDnBO6hH"
      },
      "outputs": [],
      "source": [
        ""
      ]
    },
    {
      "cell_type": "markdown",
      "metadata": {
        "id": "HL-hzHnUiK2L"
      },
      "source": [
        "## Export the Model "
      ]
    },
    {
      "cell_type": "code",
      "execution_count": 48,
      "metadata": {
        "id": "fvR0vuDciIuS",
        "colab": {
          "base_uri": "https://localhost:8080/"
        },
        "outputId": "3c475cd5-bf1c-4557-d4be-e94c02353e8c"
      },
      "outputs": [
        {
          "output_type": "execute_result",
          "data": {
            "text/plain": [
              "['MeLi-challenge-20220628.joblib']"
            ]
          },
          "metadata": {},
          "execution_count": 48
        }
      ],
      "source": [
        "from joblib import dump, load\n",
        "dump(model, 'MeLi-challenge-20220628.joblib')"
      ]
    },
    {
      "cell_type": "code",
      "source": [
        "from google.colab import drive\n",
        "\n",
        "drive.mount('/content/drive')\n"
      ],
      "metadata": {
        "colab": {
          "base_uri": "https://localhost:8080/"
        },
        "id": "G2KFwPRCVkZP",
        "outputId": "ce086bc6-8d94-49c0-f5dd-c63b81328c7c"
      },
      "execution_count": 49,
      "outputs": [
        {
          "output_type": "stream",
          "name": "stdout",
          "text": [
            "Mounted at /content/drive\n"
          ]
        }
      ]
    },
    {
      "cell_type": "code",
      "source": [
        "%%shell\n",
        "jupyter nbconvert --to html ///content/meli_challenge.ipynb"
      ],
      "metadata": {
        "colab": {
          "base_uri": "https://localhost:8080/"
        },
        "id": "CpsEhNaZW_OX",
        "outputId": "c6235f46-79d9-4e11-e5b8-66888f98e35d"
      },
      "execution_count": 61,
      "outputs": [
        {
          "output_type": "stream",
          "name": "stdout",
          "text": [
            "[NbConvertApp] Converting notebook ///content/meli_challenge.ipynb to html\n",
            "[NbConvertApp] Writing 657382 bytes to ///content/meli_challenge.html\n"
          ]
        },
        {
          "output_type": "execute_result",
          "data": {
            "text/plain": [
              ""
            ]
          },
          "metadata": {},
          "execution_count": 61
        }
      ]
    },
    {
      "cell_type": "code",
      "source": [
        ""
      ],
      "metadata": {
        "id": "h5GR5YJzXiaO"
      },
      "execution_count": null,
      "outputs": []
    }
  ],
  "metadata": {
    "colab": {
      "collapsed_sections": [],
      "name": "meli-challenge.ipynb",
      "provenance": []
    },
    "kernelspec": {
      "display_name": "Python 3 (ipykernel)",
      "language": "python",
      "name": "python3"
    },
    "language_info": {
      "codemirror_mode": {
        "name": "ipython",
        "version": 3
      },
      "file_extension": ".py",
      "mimetype": "text/x-python",
      "name": "python",
      "nbconvert_exporter": "python",
      "pygments_lexer": "ipython3",
      "version": "3.7.12"
    },
    "widgets": {
      "application/vnd.jupyter.widget-state+json": {
        "0f754b0ff53f4b539135f4b3a16a64e4": {
          "model_module": "catboost-widget",
          "model_name": "CatboostWidgetModel",
          "model_module_version": "^1.0.0",
          "state": {
            "_dom_classes": [],
            "_model_module": "catboost-widget",
            "_model_module_version": "^1.0.0",
            "_model_name": "CatboostWidgetModel",
            "_view_count": null,
            "_view_module": "catboost-widget",
            "_view_module_version": "^1.0.0",
            "_view_name": "CatboostWidgetView",
            "data": {
              "catboost_info": {
                "path": "catboost_info",
                "name": "catboost_info",
                "content": {
                  "passed_iterations": 233,
                  "total_iterations": 300,
                  "data": {
                    "iterations": [
                      {
                        "learn": [
                          0.8497514075,
                          0.5924128611
                        ],
                        "iteration": 0,
                        "passed_time": 0.6393829248,
                        "remaining_time": 191.1754945,
                        "test": [
                          0.8640745842,
                          0.5888154367
                        ]
                      },
                      {
                        "learn": [
                          0.855434475,
                          0.5209068711
                        ],
                        "iteration": 1,
                        "passed_time": 1.163121486,
                        "remaining_time": 173.3051014,
                        "test": [
                          0.8680289485,
                          0.5137238263
                        ]
                      },
                      {
                        "learn": [
                          0.8555925952,
                          0.4698051893
                        ],
                        "iteration": 2,
                        "passed_time": 1.733094381,
                        "remaining_time": 171.5763438,
                        "test": [
                          0.8698520805,
                          0.4602598798
                        ]
                      },
                      {
                        "learn": [
                          0.8579421237,
                          0.4307007971
                        ],
                        "iteration": 3,
                        "passed_time": 2.355653066,
                        "remaining_time": 174.3183269,
                        "test": [
                          0.8723809524,
                          0.4194570477
                        ]
                      },
                      {
                        "learn": [
                          0.8591285501,
                          0.4030823462
                        ],
                        "iteration": 4,
                        "passed_time": 2.842262345,
                        "remaining_time": 167.6934783,
                        "test": [
                          0.872957301,
                          0.3894121875
                        ]
                      },
                      {
                        "learn": [
                          0.8623499953,
                          0.3780218822
                        ],
                        "iteration": 5,
                        "passed_time": 3.326603311,
                        "remaining_time": 163.0035622,
                        "test": [
                          0.8763213531,
                          0.3631734053
                        ]
                      },
                      {
                        "learn": [
                          0.8647778039,
                          0.3604613845
                        ],
                        "iteration": 6,
                        "passed_time": 3.879770698,
                        "remaining_time": 162.3961163,
                        "test": [
                          0.8768047213,
                          0.3447638814
                        ]
                      },
                      {
                        "learn": [
                          0.8662830622,
                          0.3462355508
                        ],
                        "iteration": 7,
                        "passed_time": 4.458478124,
                        "remaining_time": 162.7344515,
                        "test": [
                          0.8781935757,
                          0.3296581202
                        ]
                      },
                      {
                        "learn": [
                          0.8654148399,
                          0.3356448722
                        ],
                        "iteration": 8,
                        "passed_time": 5.049905404,
                        "remaining_time": 163.2802747,
                        "test": [
                          0.8783470377,
                          0.3183402407
                        ]
                      },
                      {
                        "learn": [
                          0.8655176095,
                          0.3275178637
                        ],
                        "iteration": 9,
                        "passed_time": 5.503962391,
                        "remaining_time": 159.6149094,
                        "test": [
                          0.8789066638,
                          0.3095757548
                        ]
                      },
                      {
                        "learn": [
                          0.867612265,
                          0.3201354982
                        ],
                        "iteration": 10,
                        "passed_time": 6.068754932,
                        "remaining_time": 159.4427432,
                        "test": [
                          0.8815789474,
                          0.3015854663
                        ]
                      },
                      {
                        "learn": [
                          0.869509519,
                          0.3126409254
                        ],
                        "iteration": 11,
                        "passed_time": 6.674609344,
                        "remaining_time": 160.1906243,
                        "test": [
                          0.8829573138,
                          0.2933152127
                        ]
                      },
                      {
                        "learn": [
                          0.8714243341,
                          0.3059665638
                        ],
                        "iteration": 12,
                        "passed_time": 7.175931032,
                        "remaining_time": 158.4224774,
                        "test": [
                          0.8849501167,
                          0.2853481482
                        ]
                      },
                      {
                        "learn": [
                          0.8732414415,
                          0.3003540134
                        ],
                        "iteration": 13,
                        "passed_time": 7.683954144,
                        "remaining_time": 156.9722061,
                        "test": [
                          0.8881816253,
                          0.2787109987
                        ]
                      },
                      {
                        "learn": [
                          0.874160577,
                          0.2958423182
                        ],
                        "iteration": 14,
                        "passed_time": 8.249218015,
                        "remaining_time": 156.7351423,
                        "test": [
                          0.8902102357,
                          0.2736030689
                        ]
                      },
                      {
                        "learn": [
                          0.8752032086,
                          0.2915559201
                        ],
                        "iteration": 15,
                        "passed_time": 8.777595007,
                        "remaining_time": 155.8023114,
                        "test": [
                          0.892147487,
                          0.2680906341
                        ]
                      },
                      {
                        "learn": [
                          0.8764007637,
                          0.2882955444
                        ],
                        "iteration": 16,
                        "passed_time": 9.351720808,
                        "remaining_time": 155.6786464,
                        "test": [
                          0.8926409685,
                          0.2644437678
                        ]
                      },
                      {
                        "learn": [
                          0.8771010645,
                          0.285029264
                        ],
                        "iteration": 17,
                        "passed_time": 9.922921704,
                        "remaining_time": 155.4591067,
                        "test": [
                          0.894412577,
                          0.2602032803
                        ]
                      },
                      {
                        "learn": [
                          0.8779388924,
                          0.2827428474
                        ],
                        "iteration": 18,
                        "passed_time": 10.43001496,
                        "remaining_time": 154.2544318,
                        "test": [
                          0.8947984257,
                          0.2573011699
                        ]
                      },
                      {
                        "learn": [
                          0.8785999692,
                          0.2802345791
                        ],
                        "iteration": 19,
                        "passed_time": 10.87542393,
                        "remaining_time": 152.255935,
                        "test": [
                          0.8954526137,
                          0.2542490896
                        ]
                      },
                      {
                        "learn": [
                          0.8795322192,
                          0.2782416216
                        ],
                        "iteration": 20,
                        "passed_time": 11.44447516,
                        "remaining_time": 152.0480271,
                        "test": [
                          0.8966397278,
                          0.2519283394
                        ]
                      },
                      {
                        "learn": [
                          0.8799724838,
                          0.2760722801
                        ],
                        "iteration": 21,
                        "passed_time": 12.04743971,
                        "remaining_time": 152.235829,
                        "test": [
                          0.8965223865,
                          0.2499798583
                        ]
                      },
                      {
                        "learn": [
                          0.8808691634,
                          0.2743336497
                        ],
                        "iteration": 22,
                        "passed_time": 12.5824386,
                        "remaining_time": 151.5363258,
                        "test": [
                          0.8967789944,
                          0.2480219237
                        ]
                      },
                      {
                        "learn": [
                          0.8814021283,
                          0.2725310555
                        ],
                        "iteration": 23,
                        "passed_time": 13.19793287,
                        "remaining_time": 151.776228,
                        "test": [
                          0.8974604187,
                          0.2463058396
                        ]
                      },
                      {
                        "learn": [
                          0.8820401057,
                          0.2710836025
                        ],
                        "iteration": 24,
                        "passed_time": 13.79061839,
                        "remaining_time": 151.6968023,
                        "test": [
                          0.8975257513,
                          0.244558929
                        ]
                      },
                      {
                        "learn": [
                          0.8822065828,
                          0.2696905675
                        ],
                        "iteration": 25,
                        "passed_time": 14.39621379,
                        "remaining_time": 151.7139454,
                        "test": [
                          0.8981934113,
                          0.2432297909
                        ]
                      },
                      {
                        "learn": [
                          0.8827816293,
                          0.2685203308
                        ],
                        "iteration": 26,
                        "passed_time": 15.0170555,
                        "remaining_time": 151.8391167,
                        "test": [
                          0.8983014862,
                          0.2421950969
                        ]
                      },
                      {
                        "learn": [
                          0.8829952091,
                          0.2674734506
                        ],
                        "iteration": 27,
                        "passed_time": 15.56720354,
                        "remaining_time": 151.2242629,
                        "test": [
                          0.897928837,
                          0.2412515904
                        ]
                      },
                      {
                        "learn": [
                          0.8833993263,
                          0.2664824758
                        ],
                        "iteration": 28,
                        "passed_time": 16.20498323,
                        "remaining_time": 151.4327744,
                        "test": [
                          0.8982061352,
                          0.2403985876
                        ]
                      },
                      {
                        "learn": [
                          0.883450517,
                          0.2654463797
                        ],
                        "iteration": 29,
                        "passed_time": 16.80590914,
                        "remaining_time": 151.2531822,
                        "test": [
                          0.898015494,
                          0.2394107334
                        ]
                      },
                      {
                        "learn": [
                          0.883651107,
                          0.2644398149
                        ],
                        "iteration": 30,
                        "passed_time": 17.40607383,
                        "remaining_time": 151.0398019,
                        "test": [
                          0.8968809675,
                          0.2385360515
                        ]
                      },
                      {
                        "learn": [
                          0.8839441948,
                          0.2635336502
                        ],
                        "iteration": 31,
                        "passed_time": 18.02044543,
                        "remaining_time": 150.9212305,
                        "test": [
                          0.8973787541,
                          0.2376748607
                        ]
                      },
                      {
                        "learn": [
                          0.8837824746,
                          0.262865048
                        ],
                        "iteration": 32,
                        "passed_time": 18.61465873,
                        "remaining_time": 150.6095115,
                        "test": [
                          0.8969028426,
                          0.2369965378
                        ]
                      },
                      {
                        "learn": [
                          0.8842023181,
                          0.261959628
                        ],
                        "iteration": 33,
                        "passed_time": 19.23222487,
                        "remaining_time": 150.463877,
                        "test": [
                          0.8970276008,
                          0.2361903069
                        ]
                      },
                      {
                        "learn": [
                          0.8843413637,
                          0.2613088247
                        ],
                        "iteration": 34,
                        "passed_time": 19.81857693,
                        "remaining_time": 150.0549396,
                        "test": [
                          0.8974005305,
                          0.2354581955
                        ]
                      },
                      {
                        "learn": [
                          0.8842388991,
                          0.2606241369
                        ],
                        "iteration": 35,
                        "passed_time": 20.40478156,
                        "remaining_time": 149.6350647,
                        "test": [
                          0.8976862662,
                          0.2348313271
                        ]
                      },
                      {
                        "learn": [
                          0.8847996026,
                          0.2600777757
                        ],
                        "iteration": 36,
                        "passed_time": 20.9713842,
                        "remaining_time": 149.0668661,
                        "test": [
                          0.8973650659,
                          0.234503346
                        ]
                      },
                      {
                        "learn": [
                          0.8848996582,
                          0.2596170881
                        ],
                        "iteration": 37,
                        "passed_time": 21.56381539,
                        "remaining_time": 148.6768324,
                        "test": [
                          0.8980979705,
                          0.2340458212
                        ]
                      },
                      {
                        "learn": [
                          0.8849046786,
                          0.2590865116
                        ],
                        "iteration": 38,
                        "passed_time": 22.15919227,
                        "remaining_time": 148.2961329,
                        "test": [
                          0.8982150446,
                          0.2337257545
                        ]
                      },
                      {
                        "learn": [
                          0.8849720829,
                          0.2585672255
                        ],
                        "iteration": 39,
                        "passed_time": 22.74593501,
                        "remaining_time": 147.8485776,
                        "test": [
                          0.8979591837,
                          0.2331131087
                        ]
                      },
                      {
                        "learn": [
                          0.8851504827,
                          0.2580183863
                        ],
                        "iteration": 40,
                        "passed_time": 23.33865998,
                        "remaining_time": 147.4320228,
                        "test": [
                          0.8977248565,
                          0.2326979535
                        ]
                      },
                      {
                        "learn": [
                          0.8851241038,
                          0.2575575568
                        ],
                        "iteration": 41,
                        "passed_time": 23.95214158,
                        "remaining_time": 147.134584,
                        "test": [
                          0.8978637475,
                          0.2323209414
                        ]
                      },
                      {
                        "learn": [
                          0.8851896548,
                          0.2572610393
                        ],
                        "iteration": 42,
                        "passed_time": 24.54588373,
                        "remaining_time": 146.7044679,
                        "test": [
                          0.897651185,
                          0.2320761695
                        ]
                      },
                      {
                        "learn": [
                          0.8853650166,
                          0.2568436225
                        ],
                        "iteration": 43,
                        "passed_time": 25.18009716,
                        "remaining_time": 146.5023835,
                        "test": [
                          0.8974604187,
                          0.2316838018
                        ]
                      },
                      {
                        "learn": [
                          0.8853576288,
                          0.2562998426
                        ],
                        "iteration": 44,
                        "passed_time": 25.72660715,
                        "remaining_time": 145.7841072,
                        "test": [
                          0.8979374867,
                          0.2312307977
                        ]
                      },
                      {
                        "learn": [
                          0.8857132717,
                          0.2558798211
                        ],
                        "iteration": 45,
                        "passed_time": 26.57336831,
                        "remaining_time": 146.7312076,
                        "test": [
                          0.8980025499,
                          0.2308109642
                        ]
                      },
                      {
                        "learn": [
                          0.8857974306,
                          0.2554250427
                        ],
                        "iteration": 46,
                        "passed_time": 27.44362029,
                        "remaining_time": 147.7284241,
                        "test": [
                          0.8985753774,
                          0.2304798572
                        ]
                      },
                      {
                        "learn": [
                          0.8859468541,
                          0.2551248705
                        ],
                        "iteration": 47,
                        "passed_time": 28.26789399,
                        "remaining_time": 148.4064434,
                        "test": [
                          0.8989791578,
                          0.2302245067
                        ]
                      },
                      {
                        "learn": [
                          0.8857781827,
                          0.2546173637
                        ],
                        "iteration": 48,
                        "passed_time": 29.10161238,
                        "remaining_time": 149.0715246,
                        "test": [
                          0.8992874614,
                          0.2297926958
                        ]
                      },
                      {
                        "learn": [
                          0.8859725937,
                          0.2543660591
                        ],
                        "iteration": 49,
                        "passed_time": 30.03445653,
                        "remaining_time": 150.1722827,
                        "test": [
                          0.8990006379,
                          0.2296876924
                        ]
                      },
                      {
                        "learn": [
                          0.8859171598,
                          0.2540676633
                        ],
                        "iteration": 50,
                        "passed_time": 30.94288255,
                        "remaining_time": 151.0740736,
                        "test": [
                          0.8991918333,
                          0.2295241111
                        ]
                      },
                      {
                        "learn": [
                          0.886064565,
                          0.2537858989
                        ],
                        "iteration": 51,
                        "passed_time": 31.8960634,
                        "remaining_time": 152.119687,
                        "test": [
                          0.8994045087,
                          0.2293227694
                        ]
                      },
                      {
                        "learn": [
                          0.8862062844,
                          0.2533991331
                        ],
                        "iteration": 52,
                        "passed_time": 32.79512786,
                        "remaining_time": 152.8376714,
                        "test": [
                          0.8997445722,
                          0.2290196397
                        ]
                      },
                      {
                        "learn": [
                          0.8863714384,
                          0.2531665075
                        ],
                        "iteration": 53,
                        "passed_time": 34.27315258,
                        "remaining_time": 156.1332506,
                        "test": [
                          0.899861658,
                          0.2289586799
                        ]
                      },
                      {
                        "learn": [
                          0.8864556453,
                          0.2528241362
                        ],
                        "iteration": 54,
                        "passed_time": 35.68752146,
                        "remaining_time": 158.9716865,
                        "test": [
                          0.8999255557,
                          0.2286305799
                        ]
                      },
                      {
                        "learn": [
                          0.8865581533,
                          0.2525535142
                        ],
                        "iteration": 55,
                        "passed_time": 37.46682426,
                        "remaining_time": 163.2483057,
                        "test": [
                          0.8999042655,
                          0.2284286243
                        ]
                      },
                      {
                        "learn": [
                          0.8867692308,
                          0.2522567053
                        ],
                        "iteration": 56,
                        "passed_time": 38.75546676,
                        "remaining_time": 165.2206741,
                        "test": [
                          0.9001170088,
                          0.2281635805
                        ]
                      },
                      {
                        "learn": [
                          0.8867924528,
                          0.2520686784
                        ],
                        "iteration": 57,
                        "passed_time": 39.89334181,
                        "remaining_time": 166.4515296,
                        "test": [
                          0.9003085435,
                          0.2281097146
                        ]
                      },
                      {
                        "learn": [
                          0.8870587957,
                          0.2517227882
                        ],
                        "iteration": 58,
                        "passed_time": 41.35375193,
                        "remaining_time": 168.919563,
                        "test": [
                          0.9005001596,
                          0.2278336444
                        ]
                      },
                      {
                        "learn": [
                          0.8872801259,
                          0.2514060492
                        ],
                        "iteration": 59,
                        "passed_time": 42.32138861,
                        "remaining_time": 169.2855544,
                        "test": [
                          0.900212766,
                          0.2276134197
                        ]
                      },
                      {
                        "learn": [
                          0.8874510592,
                          0.2511335699
                        ],
                        "iteration": 60,
                        "passed_time": 42.94837297,
                        "remaining_time": 168.2731334,
                        "test": [
                          0.900989046,
                          0.2274007749
                        ]
                      },
                      {
                        "learn": [
                          0.8875140474,
                          0.2508979816
                        ],
                        "iteration": 61,
                        "passed_time": 43.60159287,
                        "remaining_time": 167.3738565,
                        "test": [
                          0.9007552388,
                          0.2271833824
                        ]
                      },
                      {
                        "learn": [
                          0.8875323846,
                          0.2507313754
                        ],
                        "iteration": 62,
                        "passed_time": 44.17558074,
                        "remaining_time": 166.1843275,
                        "test": [
                          0.9006382979,
                          0.2271691966
                        ]
                      },
                      {
                        "learn": [
                          0.8875297235,
                          0.2506720245
                        ],
                        "iteration": 63,
                        "passed_time": 44.44841473,
                        "remaining_time": 163.9035293,
                        "test": [
                          0.9005213321,
                          0.2271464925
                        ]
                      },
                      {
                        "learn": [
                          0.8875005916,
                          0.2505318718
                        ],
                        "iteration": 64,
                        "passed_time": 44.91298422,
                        "remaining_time": 162.3777122,
                        "test": [
                          0.9007341207,
                          0.2270364812
                        ]
                      },
                      {
                        "learn": [
                          0.8876292808,
                          0.2503761034
                        ],
                        "iteration": 65,
                        "passed_time": 45.4951176,
                        "remaining_time": 161.3008715,
                        "test": [
                          0.9008088548,
                          0.2268870978
                        ]
                      },
                      {
                        "learn": [
                          0.8878210439,
                          0.250131071
                        ],
                        "iteration": 66,
                        "passed_time": 46.06562483,
                        "remaining_time": 160.1983669,
                        "test": [
                          0.9009469092,
                          0.2267788545
                        ]
                      },
                      {
                        "learn": [
                          0.8878682781,
                          0.2497762828
                        ],
                        "iteration": 67,
                        "passed_time": 46.59142272,
                        "remaining_time": 158.9589716,
                        "test": [
                          0.9009258274,
                          0.2264666883
                        ]
                      },
                      {
                        "learn": [
                          0.8878947119,
                          0.2494811787
                        ],
                        "iteration": 68,
                        "passed_time": 47.17854175,
                        "remaining_time": 157.9455528,
                        "test": [
                          0.9009258274,
                          0.2261744842
                        ]
                      },
                      {
                        "learn": [
                          0.8879972541,
                          0.2492611481
                        ],
                        "iteration": 69,
                        "passed_time": 47.77438337,
                        "remaining_time": 156.9729739,
                        "test": [
                          0.9012765957,
                          0.2260313728
                        ]
                      },
                      {
                        "learn": [
                          0.888049987,
                          0.2491581824
                        ],
                        "iteration": 70,
                        "passed_time": 48.37599408,
                        "remaining_time": 156.0296147,
                        "test": [
                          0.9012765957,
                          0.2259624407
                        ]
                      },
                      {
                        "learn": [
                          0.8878763492,
                          0.2489299217
                        ],
                        "iteration": 71,
                        "passed_time": 49.02806167,
                        "remaining_time": 155.2555286,
                        "test": [
                          0.9014893617,
                          0.2258482838
                        ]
                      },
                      {
                        "learn": [
                          0.8880815158,
                          0.2486904193
                        ],
                        "iteration": 72,
                        "passed_time": 49.5934216,
                        "remaining_time": 154.2151603,
                        "test": [
                          0.9013514952,
                          0.2257625324
                        ]
                      },
                      {
                        "learn": [
                          0.8881867026,
                          0.2485263412
                        ],
                        "iteration": 73,
                        "passed_time": 50.05696696,
                        "remaining_time": 152.8766829,
                        "test": [
                          0.9013514952,
                          0.2256360969
                        ]
                      },
                      {
                        "learn": [
                          0.8884075468,
                          0.2483041359
                        ],
                        "iteration": 74,
                        "passed_time": 50.60079291,
                        "remaining_time": 151.8023787,
                        "test": [
                          0.9010427751,
                          0.2254888695
                        ]
                      },
                      {
                        "learn": [
                          0.8884127792,
                          0.2480923924
                        ],
                        "iteration": 75,
                        "passed_time": 51.17466439,
                        "remaining_time": 150.8305898,
                        "test": [
                          0.9009258274,
                          0.2254181546
                        ]
                      },
                      {
                        "learn": [
                          0.8884680483,
                          0.2479328254
                        ],
                        "iteration": 76,
                        "passed_time": 51.81968139,
                        "remaining_time": 150.0751812,
                        "test": [
                          0.9009258274,
                          0.2252959013
                        ]
                      },
                      {
                        "learn": [
                          0.8885680473,
                          0.247745706
                        ],
                        "iteration": 77,
                        "passed_time": 52.37278566,
                        "remaining_time": 149.0610054,
                        "test": [
                          0.9012555863,
                          0.2251367386
                        ]
                      },
                      {
                        "learn": [
                          0.8885102355,
                          0.247618272
                        ],
                        "iteration": 78,
                        "passed_time": 52.94449991,
                        "remaining_time": 148.110563,
                        "test": [
                          0.9010217114,
                          0.2250399042
                        ]
                      },
                      {
                        "learn": [
                          0.8884471109,
                          0.2474914185
                        ],
                        "iteration": 79,
                        "passed_time": 53.53108506,
                        "remaining_time": 147.2104839,
                        "test": [
                          0.9009047366,
                          0.2250390478
                        ]
                      },
                      {
                        "learn": [
                          0.8885969895,
                          0.2472868512
                        ],
                        "iteration": 80,
                        "passed_time": 54.08803975,
                        "remaining_time": 146.2380334,
                        "test": [
                          0.9011386613,
                          0.2248493267
                        ]
                      },
                      {
                        "learn": [
                          0.8886259289,
                          0.2471901757
                        ],
                        "iteration": 81,
                        "passed_time": 54.67617513,
                        "remaining_time": 145.3586119,
                        "test": [
                          0.9010427751,
                          0.2247911419
                        ]
                      },
                      {
                        "learn": [
                          0.8887100401,
                          0.2469692416
                        ],
                        "iteration": 82,
                        "passed_time": 55.31149774,
                        "remaining_time": 144.6095784,
                        "test": [
                          0.901585275,
                          0.2245838159
                        ]
                      },
                      {
                        "learn": [
                          0.888783675,
                          0.2468154587
                        ],
                        "iteration": 83,
                        "passed_time": 55.79937633,
                        "remaining_time": 143.4841106,
                        "test": [
                          0.9014683975,
                          0.2244748691
                        ]
                      },
                      {
                        "learn": [
                          0.8887942054,
                          0.2466581949
                        ],
                        "iteration": 84,
                        "passed_time": 56.46136701,
                        "remaining_time": 142.814046,
                        "test": [
                          0.901660281,
                          0.2243597393
                        ]
                      },
                      {
                        "learn": [
                          0.8888731094,
                          0.246490347
                        ],
                        "iteration": 85,
                        "passed_time": 57.03639886,
                        "remaining_time": 141.9277832,
                        "test": [
                          0.9019691325,
                          0.2242582683
                        ]
                      },
                      {
                        "learn": [
                          0.8889651581,
                          0.2463315525
                        ],
                        "iteration": 86,
                        "passed_time": 57.59999009,
                        "remaining_time": 141.0206654,
                        "test": [
                          0.902065148,
                          0.2241716767
                        ]
                      },
                      {
                        "learn": [
                          0.8889257059,
                          0.2462282525
                        ],
                        "iteration": 87,
                        "passed_time": 58.15563877,
                        "remaining_time": 140.1022207,
                        "test": [
                          0.9021611839,
                          0.2241181016
                        ]
                      },
                      {
                        "learn": [
                          0.8891150264,
                          0.2460581968
                        ],
                        "iteration": 88,
                        "passed_time": 58.72175964,
                        "remaining_time": 139.216756,
                        "test": [
                          0.9022572402,
                          0.2239626249
                        ]
                      },
                      {
                        "learn": [
                          0.8892175539,
                          0.2459500284
                        ],
                        "iteration": 89,
                        "passed_time": 59.26063136,
                        "remaining_time": 138.2748065,
                        "test": [
                          0.9023948909,
                          0.2238871632
                        ]
                      },
                      {
                        "learn": [
                          0.8893437289,
                          0.2457994882
                        ],
                        "iteration": 90,
                        "passed_time": 59.78221293,
                        "remaining_time": 137.3020055,
                        "test": [
                          0.902353317,
                          0.2237840992
                        ]
                      },
                      {
                        "learn": [
                          0.8892333176,
                          0.2456779952
                        ],
                        "iteration": 91,
                        "passed_time": 60.37027256,
                        "remaining_time": 136.4893119,
                        "test": [
                          0.9021403471,
                          0.2237665037
                        ]
                      },
                      {
                        "learn": [
                          0.8893095452,
                          0.2455822187
                        ],
                        "iteration": 92,
                        "passed_time": 60.9459148,
                        "remaining_time": 135.6538104,
                        "test": [
                          0.9022364217,
                          0.2237551004
                        ]
                      },
                      {
                        "learn": [
                          0.8893226856,
                          0.2454564707
                        ],
                        "iteration": 93,
                        "passed_time": 61.60516234,
                        "remaining_time": 135.0070579,
                        "test": [
                          0.9021611839,
                          0.2236375807
                        ]
                      },
                      {
                        "learn": [
                          0.8893937243,
                          0.245357398
                        ],
                        "iteration": 94,
                        "passed_time": 62.23613043,
                        "remaining_time": 134.2990183,
                        "test": [
                          0.9021611839,
                          0.2234722241
                        ]
                      },
                      {
                        "learn": [
                          0.8894673324,
                          0.2451057367
                        ],
                        "iteration": 95,
                        "passed_time": 63.61882397,
                        "remaining_time": 135.1900009,
                        "test": [
                          0.9025870329,
                          0.2232725862
                        ]
                      },
                      {
                        "learn": [
                          0.8896249852,
                          0.2449945667
                        ],
                        "iteration": 96,
                        "passed_time": 64.16718507,
                        "remaining_time": 134.2880265,
                        "test": [
                          0.9024701874,
                          0.2231853625
                        ]
                      },
                      {
                        "learn": [
                          0.8897855824,
                          0.244687083
                        ],
                        "iteration": 97,
                        "passed_time": 64.649062,
                        "remaining_time": 133.2562298,
                        "test": [
                          0.902545532,
                          0.2228892182
                        ]
                      },
                      {
                        "learn": [
                          0.8899750293,
                          0.2445010284
                        ],
                        "iteration": 98,
                        "passed_time": 65.16150105,
                        "remaining_time": 132.297593,
                        "test": [
                          0.9026624068,
                          0.2226755441
                        ]
                      },
                      {
                        "learn": [
                          0.8900958466,
                          0.2444075534
                        ],
                        "iteration": 99,
                        "passed_time": 65.64213126,
                        "remaining_time": 131.2842625,
                        "test": [
                          0.9029508895,
                          0.2226776494
                        ]
                      },
                      {
                        "learn": [
                          0.890067103,
                          0.2442450735
                        ],
                        "iteration": 100,
                        "passed_time": 66.26350161,
                        "remaining_time": 130.5587804,
                        "test": [
                          0.9028547081,
                          0.2225105943
                        ]
                      },
                      {
                        "learn": [
                          0.8901248447,
                          0.2440867896
                        ],
                        "iteration": 101,
                        "passed_time": 66.85072509,
                        "remaining_time": 129.7690546,
                        "test": [
                          0.9029508895,
                          0.2223739499
                        ]
                      },
                      {
                        "learn": [
                          0.8901433119,
                          0.2439144718
                        ],
                        "iteration": 102,
                        "passed_time": 67.38973941,
                        "remaining_time": 128.891055,
                        "test": [
                          0.9030470914,
                          0.2223058348
                        ]
                      },
                      {
                        "learn": [
                          0.8901114503,
                          0.2437090708
                        ],
                        "iteration": 103,
                        "passed_time": 68.01090369,
                        "remaining_time": 128.1743954,
                        "test": [
                          0.9031845777,
                          0.2221435987
                        ]
                      },
                      {
                        "learn": [
                          0.8901958464,
                          0.2435739254
                        ],
                        "iteration": 104,
                        "passed_time": 68.66361332,
                        "remaining_time": 127.518139,
                        "test": [
                          0.9035900714,
                          0.222101111
                        ]
                      },
                      {
                        "learn": [
                          0.8902850247,
                          0.2433383934
                        ],
                        "iteration": 105,
                        "passed_time": 69.1371586,
                        "remaining_time": 126.534045,
                        "test": [
                          0.9035900714,
                          0.2218830937
                        ]
                      },
                      {
                        "learn": [
                          0.8903879382,
                          0.2432050327
                        ],
                        "iteration": 106,
                        "passed_time": 69.67509491,
                        "remaining_time": 125.6756385,
                        "test": [
                          0.9035900714,
                          0.2217630707
                        ]
                      },
                      {
                        "learn": [
                          0.8905375504,
                          0.2430665043
                        ],
                        "iteration": 107,
                        "passed_time": 70.32764905,
                        "remaining_time": 125.0269316,
                        "test": [
                          0.9033770108,
                          0.2216632744
                        ]
                      },
                      {
                        "learn": [
                          0.8905717531,
                          0.2429102564
                        ],
                        "iteration": 108,
                        "passed_time": 70.93314795,
                        "remaining_time": 124.2956996,
                        "test": [
                          0.9036863414,
                          0.2215665658
                        ]
                      },
                      {
                        "learn": [
                          0.8906268487,
                          0.2428728333
                        ],
                        "iteration": 109,
                        "passed_time": 71.46588107,
                        "remaining_time": 123.4410673,
                        "test": [
                          0.903803132,
                          0.221527083
                        ]
                      },
                      {
                        "learn": [
                          0.890823908,
                          0.2426975325
                        ],
                        "iteration": 110,
                        "passed_time": 72.15147952,
                        "remaining_time": 122.8525192,
                        "test": [
                          0.9037068598,
                          0.2213594544
                        ]
                      },
                      {
                        "learn": [
                          0.8908449871,
                          0.2425716117
                        ],
                        "iteration": 111,
                        "passed_time": 72.76228361,
                        "remaining_time": 122.1366903,
                        "test": [
                          0.9035900714,
                          0.2213188995
                        ]
                      },
                      {
                        "learn": [
                          0.8908766076,
                          0.2424855966
                        ],
                        "iteration": 112,
                        "passed_time": 73.33173708,
                        "remaining_time": 121.3542906,
                        "test": [
                          0.9035900714,
                          0.2212221598
                        ]
                      },
                      {
                        "learn": [
                          0.8910103986,
                          0.2423212952
                        ],
                        "iteration": 113,
                        "passed_time": 73.990209,
                        "remaining_time": 120.7208673,
                        "test": [
                          0.9036863414,
                          0.2211045215
                        ]
                      },
                      {
                        "learn": [
                          0.8911207325,
                          0.2422307225
                        ],
                        "iteration": 114,
                        "passed_time": 74.57241193,
                        "remaining_time": 119.9643149,
                        "test": [
                          0.903473258,
                          0.2210026647
                        ]
                      },
                      {
                        "learn": [
                          0.8909975036,
                          0.2420846889
                        ],
                        "iteration": 115,
                        "passed_time": 75.06994769,
                        "remaining_time": 119.0764687,
                        "test": [
                          0.9035695258,
                          0.220904384
                        ]
                      },
                      {
                        "learn": [
                          0.8911026976,
                          0.2419275707
                        ],
                        "iteration": 116,
                        "passed_time": 75.73351339,
                        "remaining_time": 118.4549825,
                        "test": [
                          0.9035695258,
                          0.2207912851
                        ]
                      },
                      {
                        "learn": [
                          0.8911842308,
                          0.2418389149
                        ],
                        "iteration": 117,
                        "passed_time": 76.76420044,
                        "remaining_time": 118.399021,
                        "test": [
                          0.9035695258,
                          0.2206970444
                        ]
                      },
                      {
                        "learn": [
                          0.8912657659,
                          0.2416580462
                        ],
                        "iteration": 118,
                        "passed_time": 77.87111256,
                        "remaining_time": 118.4426166,
                        "test": [
                          0.9037416054,
                          0.220580366
                        ]
                      },
                      {
                        "learn": [
                          0.8914234332,
                          0.2415453379
                        ],
                        "iteration": 119,
                        "passed_time": 78.44610463,
                        "remaining_time": 117.6691569,
                        "test": [
                          0.9036452782,
                          0.2205015199
                        ]
                      },
                      {
                        "learn": [
                          0.8914445273,
                          0.2414855927
                        ],
                        "iteration": 120,
                        "passed_time": 78.95733791,
                        "remaining_time": 116.8046569,
                        "test": [
                          0.9036452782,
                          0.220457613
                        ]
                      },
                      {
                        "learn": [
                          0.8914314111,
                          0.2414259275
                        ],
                        "iteration": 121,
                        "passed_time": 79.50093895,
                        "remaining_time": 115.9931732,
                        "test": [
                          0.9037416054,
                          0.2204493577
                        ]
                      },
                      {
                        "learn": [
                          0.8914288419,
                          0.2412747985
                        ],
                        "iteration": 122,
                        "passed_time": 80.06588784,
                        "remaining_time": 115.2167654,
                        "test": [
                          0.9034115139,
                          0.2202692397
                        ]
                      },
                      {
                        "learn": [
                          0.8915075365,
                          0.2411646539
                        ],
                        "iteration": 123,
                        "passed_time": 80.67150552,
                        "remaining_time": 114.5014917,
                        "test": [
                          0.9035284085,
                          0.2202307269
                        ]
                      },
                      {
                        "learn": [
                          0.8916808631,
                          0.2409915484
                        ],
                        "iteration": 124,
                        "passed_time": 81.24921438,
                        "remaining_time": 113.7489001,
                        "test": [
                          0.9033564198,
                          0.2201488087
                        ]
                      },
                      {
                        "learn": [
                          0.8917122105,
                          0.2408999103
                        ],
                        "iteration": 125,
                        "passed_time": 81.82429754,
                        "remaining_time": 112.9954585,
                        "test": [
                          0.9035489715,
                          0.2201287635
                        ]
                      },
                      {
                        "learn": [
                          0.8917464186,
                          0.2408197013
                        ],
                        "iteration": 126,
                        "passed_time": 82.38348826,
                        "remaining_time": 112.2231769,
                        "test": [
                          0.9035489715,
                          0.2201846127
                        ]
                      },
                      {
                        "learn": [
                          0.8917883082,
                          0.24063646
                        ],
                        "iteration": 127,
                        "passed_time": 82.99409021,
                        "remaining_time": 111.5233087,
                        "test": [
                          0.9035900714,
                          0.2198796475
                        ]
                      },
                      {
                        "learn": [
                          0.8918384971,
                          0.2405446468
                        ],
                        "iteration": 128,
                        "passed_time": 83.4855469,
                        "remaining_time": 110.6668878,
                        "test": [
                          0.9032395567,
                          0.219886379
                        ]
                      },
                      {
                        "learn": [
                          0.8919254658,
                          0.2403639263
                        ],
                        "iteration": 129,
                        "passed_time": 84.13513807,
                        "remaining_time": 110.0228729,
                        "test": [
                          0.903473258,
                          0.2196877425
                        ]
                      },
                      {
                        "learn": [
                          0.8920594359,
                          0.2401691718
                        ],
                        "iteration": 130,
                        "passed_time": 84.84582428,
                        "remaining_time": 109.4575901,
                        "test": [
                          0.9032601747,
                          0.2195022106
                        ]
                      },
                      {
                        "learn": [
                          0.8922145063,
                          0.2399958354
                        ],
                        "iteration": 131,
                        "passed_time": 85.41668816,
                        "remaining_time": 108.7121486,
                        "test": [
                          0.9034938219,
                          0.2194196842
                        ]
                      },
                      {
                        "learn": [
                          0.8922825778,
                          0.2399154249
                        ],
                        "iteration": 132,
                        "passed_time": 86.0519344,
                        "remaining_time": 108.0501733,
                        "test": [
                          0.9033564198,
                          0.2193977709
                        ]
                      },
                      {
                        "learn": [
                          0.8923248001,
                          0.2396048466
                        ],
                        "iteration": 133,
                        "passed_time": 86.720386,
                        "remaining_time": 107.4297319,
                        "test": [
                          0.9038789429,
                          0.2190947183
                        ]
                      },
                      {
                        "learn": [
                          0.8923095125,
                          0.2394642752
                        ],
                        "iteration": 134,
                        "passed_time": 87.36509838,
                        "remaining_time": 106.7795647,
                        "test": [
                          0.9038994247,
                          0.218993427
                        ]
                      },
                      {
                        "learn": [
                          0.8923462808,
                          0.2394281367
                        ],
                        "iteration": 135,
                        "passed_time": 87.94296775,
                        "remaining_time": 106.0488729,
                        "test": [
                          0.9037826319,
                          0.2189838174
                        ]
                      },
                      {
                        "learn": [
                          0.8923619327,
                          0.2392505042
                        ],
                        "iteration": 136,
                        "passed_time": 88.61162481,
                        "remaining_time": 105.4284295,
                        "test": [
                          0.9036658142,
                          0.2188318174
                        ]
                      },
                      {
                        "learn": [
                          0.8924642139,
                          0.2391362789
                        ],
                        "iteration": 137,
                        "passed_time": 89.20465557,
                        "remaining_time": 104.7185087,
                        "test": [
                          0.9036658142,
                          0.2188286583
                        ]
                      },
                      {
                        "learn": [
                          0.8926648602,
                          0.2389281553
                        ],
                        "iteration": 138,
                        "passed_time": 89.88417432,
                        "remaining_time": 104.1104465,
                        "test": [
                          0.9040716265,
                          0.2187156969
                        ]
                      },
                      {
                        "learn": [
                          0.8926936047,
                          0.2387309392
                        ],
                        "iteration": 139,
                        "passed_time": 90.46164342,
                        "remaining_time": 103.3847353,
                        "test": [
                          0.9044219499,
                          0.2186426808
                        ]
                      },
                      {
                        "learn": [
                          0.892732909,
                          0.2386336864
                        ],
                        "iteration": 140,
                        "passed_time": 91.00592073,
                        "remaining_time": 102.6236978,
                        "test": [
                          0.9039548023,
                          0.2184915786
                        ]
                      },
                      {
                        "learn": [
                          0.8927751615,
                          0.2385423934
                        ],
                        "iteration": 141,
                        "passed_time": 91.61889388,
                        "remaining_time": 101.9421495,
                        "test": [
                          0.9036658142,
                          0.2184108273
                        ]
                      },
                      {
                        "learn": [
                          0.892851227,
                          0.2384893116
                        ],
                        "iteration": 142,
                        "passed_time": 92.20093469,
                        "remaining_time": 101.2275996,
                        "test": [
                          0.903762123,
                          0.2183796929
                        ]
                      },
                      {
                        "learn": [
                          0.892885455,
                          0.2384628026
                        ],
                        "iteration": 143,
                        "passed_time": 92.78170694,
                        "remaining_time": 100.5135159,
                        "test": [
                          0.903762123,
                          0.2183559986
                        ]
                      },
                      {
                        "learn": [
                          0.8929720776,
                          0.2383353142
                        ],
                        "iteration": 144,
                        "passed_time": 93.29163007,
                        "remaining_time": 99.72553559,
                        "test": [
                          0.903721079,
                          0.2183109894
                        ]
                      },
                      {
                        "learn": [
                          0.8929222178,
                          0.2382393194
                        ],
                        "iteration": 145,
                        "passed_time": 93.88416843,
                        "remaining_time": 99.02850642,
                        "test": [
                          0.9037416054,
                          0.2182066011
                        ]
                      },
                      {
                        "learn": [
                          0.8929302491,
                          0.2381291421
                        ],
                        "iteration": 146,
                        "passed_time": 94.47048302,
                        "remaining_time": 98.32642111,
                        "test": [
                          0.903762123,
                          0.2181124384
                        ]
                      },
                      {
                        "learn": [
                          0.8932142223,
                          0.238007224
                        ],
                        "iteration": 147,
                        "passed_time": 95.05303668,
                        "remaining_time": 97.62203767,
                        "test": [
                          0.903762123,
                          0.2180323305
                        ]
                      },
                      {
                        "learn": [
                          0.8933557333,
                          0.2378642677
                        ],
                        "iteration": 148,
                        "passed_time": 95.66356494,
                        "remaining_time": 96.94763964,
                        "test": [
                          0.9039957379,
                          0.2179106108
                        ]
                      },
                      {
                        "learn": [
                          0.8932424759,
                          0.2377250465
                        ],
                        "iteration": 149,
                        "passed_time": 96.22656681,
                        "remaining_time": 96.22656681,
                        "test": [
                          0.9040161926,
                          0.2176933736
                        ]
                      },
                      {
                        "learn": [
                          0.8932822224,
                          0.237625356
                        ],
                        "iteration": 150,
                        "passed_time": 96.89180268,
                        "remaining_time": 95.60846755,
                        "test": [
                          0.9040716265,
                          0.2176343247
                        ]
                      },
                      {
                        "learn": [
                          0.8932585599,
                          0.2375164321
                        ],
                        "iteration": 151,
                        "passed_time": 97.52433568,
                        "remaining_time": 94.9579058,
                        "test": [
                          0.9041884259,
                          0.2175831035
                        ]
                      },
                      {
                        "learn": [
                          0.8932953161,
                          0.2374619291
                        ],
                        "iteration": 152,
                        "passed_time": 98.08324101,
                        "remaining_time": 94.2368394,
                        "test": [
                          0.9041884259,
                          0.2175831116
                        ]
                      },
                      {
                        "learn": [
                          0.8932927911,
                          0.2374301927
                        ],
                        "iteration": 153,
                        "passed_time": 98.67378119,
                        "remaining_time": 93.54787048,
                        "test": [
                          0.9041884259,
                          0.2175916757
                        ]
                      },
                      {
                        "learn": [
                          0.8933164539,
                          0.2373936542
                        ],
                        "iteration": 154,
                        "passed_time": 99.14060503,
                        "remaining_time": 92.74443696,
                        "test": [
                          0.9041884259,
                          0.2175798052
                        ]
                      },
                      {
                        "learn": [
                          0.8933718261,
                          0.2373032772
                        ],
                        "iteration": 155,
                        "passed_time": 99.71875027,
                        "remaining_time": 92.04807717,
                        "test": [
                          0.9042643923,
                          0.2174899001
                        ]
                      },
                      {
                        "learn": [
                          0.8935485398,
                          0.2371484999
                        ],
                        "iteration": 156,
                        "passed_time": 100.3888801,
                        "remaining_time": 91.43700548,
                        "test": [
                          0.9041066667,
                          0.2174075275
                        ]
                      },
                      {
                        "learn": [
                          0.8935747249,
                          0.2370391978
                        ],
                        "iteration": 157,
                        "passed_time": 100.952461,
                        "remaining_time": 90.72942702,
                        "test": [
                          0.9039897589,
                          0.2173921337
                        ]
                      },
                      {
                        "learn": [
                          0.8935988923,
                          0.2369084142
                        ],
                        "iteration": 158,
                        "passed_time": 101.5561292,
                        "remaining_time": 90.05920889,
                        "test": [
                          0.9039897589,
                          0.2173291472
                        ]
                      },
                      {
                        "learn": [
                          0.8937252953,
                          0.236819621
                        ],
                        "iteration": 159,
                        "passed_time": 102.1374057,
                        "remaining_time": 89.37023003,
                        "test": [
                          0.9041066667,
                          0.2173002785
                        ]
                      },
                      {
                        "learn": [
                          0.8937409025,
                          0.2366578082
                        ],
                        "iteration": 160,
                        "passed_time": 102.6914916,
                        "remaining_time": 88.65911384,
                        "test": [
                          0.90432,
                          0.2172055076
                        ]
                      },
                      {
                        "learn": [
                          0.8938280372,
                          0.2366148806
                        ],
                        "iteration": 161,
                        "passed_time": 103.2616562,
                        "remaining_time": 87.96363309,
                        "test": [
                          0.9044164711,
                          0.2172045947
                        ]
                      },
                      {
                        "learn": [
                          0.8939433386,
                          0.2365343486
                        ],
                        "iteration": 162,
                        "passed_time": 103.8240661,
                        "remaining_time": 87.26317211,
                        "test": [
                          0.9046298272,
                          0.2172200468
                        ]
                      },
                      {
                        "learn": [
                          0.8939252281,
                          0.2364879642
                        ],
                        "iteration": 163,
                        "passed_time": 104.3938991,
                        "remaining_time": 86.57055045,
                        "test": [
                          0.9045129628,
                          0.2172096411
                        ]
                      },
                      {
                        "learn": [
                          0.8940480417,
                          0.2363619476
                        ],
                        "iteration": 164,
                        "passed_time": 104.9983006,
                        "remaining_time": 85.90770049,
                        "test": [
                          0.9047263416,
                          0.2170496299
                        ]
                      },
                      {
                        "learn": [
                          0.8941028918,
                          0.2362055229
                        ],
                        "iteration": 165,
                        "passed_time": 105.6268817,
                        "remaining_time": 85.26507317,
                        "test": [
                          0.9047263416,
                          0.2169975204
                        ]
                      },
                      {
                        "learn": [
                          0.8941340716,
                          0.2360924834
                        ],
                        "iteration": 166,
                        "passed_time": 106.247234,
                        "remaining_time": 84.61606065,
                        "test": [
                          0.9048431833,
                          0.2169142605
                        ]
                      },
                      {
                        "learn": [
                          0.8943314521,
                          0.2359487938
                        ],
                        "iteration": 167,
                        "passed_time": 106.786613,
                        "remaining_time": 83.90376738,
                        "test": [
                          0.904609475,
                          0.2168749526
                        ]
                      },
                      {
                        "learn": [
                          0.8944759291,
                          0.2357222432
                        ],
                        "iteration": 168,
                        "passed_time": 107.2899383,
                        "remaining_time": 83.16557345,
                        "test": [
                          0.9047060079,
                          0.2167356574
                        ]
                      },
                      {
                        "learn": [
                          0.8944136128,
                          0.2355630007
                        ],
                        "iteration": 169,
                        "passed_time": 107.912148,
                        "remaining_time": 82.52105432,
                        "test": [
                          0.9049397205,
                          0.2166556241
                        ]
                      },
                      {
                        "learn": [
                          0.8944534514,
                          0.2355199536
                        ],
                        "iteration": 170,
                        "passed_time": 108.4510596,
                        "remaining_time": 81.81395725,
                        "test": [
                          0.9049397205,
                          0.2166516575
                        ]
                      },
                      {
                        "learn": [
                          0.8945979528,
                          0.2353051628
                        ],
                        "iteration": 171,
                        "passed_time": 109.0558701,
                        "remaining_time": 81.15785679,
                        "test": [
                          0.9050362783,
                          0.2165538146
                        ]
                      },
                      {
                        "learn": [
                          0.894658982,
                          0.2351407445
                        ],
                        "iteration": 172,
                        "passed_time": 109.7187625,
                        "remaining_time": 80.54498751,
                        "test": [
                          0.9049397205,
                          0.2164605322
                        ]
                      },
                      {
                        "learn": [
                          0.8948196892,
                          0.2350067804
                        ],
                        "iteration": 173,
                        "passed_time": 110.2635637,
                        "remaining_time": 79.8460289,
                        "test": [
                          0.9049194323,
                          0.216411969
                        ]
                      },
                      {
                        "learn": [
                          0.8949479888,
                          0.2348958734
                        ],
                        "iteration": 174,
                        "passed_time": 110.8868575,
                        "remaining_time": 79.2048982,
                        "test": [
                          0.9050362783,
                          0.216405188
                        ]
                      },
                      {
                        "learn": [
                          0.8949666852,
                          0.2348116158
                        ],
                        "iteration": 175,
                        "passed_time": 111.523028,
                        "remaining_time": 78.57304242,
                        "test": [
                          0.9051530993,
                          0.2164010764
                        ]
                      },
                      {
                        "learn": [
                          0.8949012924,
                          0.2346711877
                        ],
                        "iteration": 176,
                        "passed_time": 112.0970755,
                        "remaining_time": 77.89796769,
                        "test": [
                          0.9051530993,
                          0.2162705655
                        ]
                      },
                      {
                        "learn": [
                          0.8948832365,
                          0.2345856078
                        ],
                        "iteration": 177,
                        "passed_time": 112.7405475,
                        "remaining_time": 77.27161119,
                        "test": [
                          0.9049194323,
                          0.2162582042
                        ]
                      },
                      {
                        "learn": [
                          0.8950577094,
                          0.2344112442
                        ],
                        "iteration": 178,
                        "passed_time": 113.2403103,
                        "remaining_time": 76.54791926,
                        "test": [
                          0.9049194323,
                          0.2161940984
                        ]
                      },
                      {
                        "learn": [
                          0.8950676467,
                          0.2343142951
                        ],
                        "iteration": 179,
                        "passed_time": 113.8101382,
                        "remaining_time": 75.87342548,
                        "test": [
                          0.9050362783,
                          0.2161203681
                        ]
                      },
                      {
                        "learn": [
                          0.89520338,
                          0.2342355447
                        ],
                        "iteration": 180,
                        "passed_time": 114.4089718,
                        "remaining_time": 75.21915827,
                        "test": [
                          0.9050362783,
                          0.2160769112
                        ]
                      },
                      {
                        "learn": [
                          0.8951871531,
                          0.2340972651
                        ],
                        "iteration": 181,
                        "passed_time": 114.9686071,
                        "remaining_time": 74.54008591,
                        "test": [
                          0.9054429029,
                          0.2158825151
                        ]
                      },
                      {
                        "learn": [
                          0.8952973753,
                          0.2340203028
                        ],
                        "iteration": 182,
                        "passed_time": 115.4772064,
                        "remaining_time": 73.82968936,
                        "test": [
                          0.9055395453,
                          0.2158070565
                        ]
                      },
                      {
                        "learn": [
                          0.8954294776,
                          0.2339716269
                        ],
                        "iteration": 183,
                        "passed_time": 116.1072053,
                        "remaining_time": 73.19802071,
                        "test": [
                          0.9055395453,
                          0.2157787115
                        ]
                      },
                      {
                        "learn": [
                          0.8955396978,
                          0.2338418539
                        ],
                        "iteration": 184,
                        "passed_time": 116.693466,
                        "remaining_time": 72.53918159,
                        "test": [
                          0.9054429029,
                          0.2157285985
                        ]
                      },
                      {
                        "learn": [
                          0.8955004852,
                          0.2337773198
                        ],
                        "iteration": 185,
                        "passed_time": 117.2970378,
                        "remaining_time": 71.89173287,
                        "test": [
                          0.9054429029,
                          0.2157558531
                        ]
                      },
                      {
                        "learn": [
                          0.8956375601,
                          0.2336359398
                        ],
                        "iteration": 186,
                        "passed_time": 117.7755657,
                        "remaining_time": 71.16919214,
                        "test": [
                          0.9054227156,
                          0.2156820584
                        ]
                      },
                      {
                        "learn": [
                          0.8955746766,
                          0.2335618095
                        ],
                        "iteration": 187,
                        "passed_time": 118.4042199,
                        "remaining_time": 70.53868421,
                        "test": [
                          0.9055597055,
                          0.21565715
                        ]
                      },
                      {
                        "learn": [
                          0.8956439394,
                          0.2335244333
                        ],
                        "iteration": 188,
                        "passed_time": 118.972316,
                        "remaining_time": 69.87263002,
                        "test": [
                          0.9056764831,
                          0.2156371082
                        ]
                      },
                      {
                        "learn": [
                          0.8957403747,
                          0.2334492094
                        ],
                        "iteration": 189,
                        "passed_time": 119.6065835,
                        "remaining_time": 69.24591674,
                        "test": [
                          0.9058898848,
                          0.2155931817
                        ]
                      },
                      {
                        "learn": [
                          0.895727305,
                          0.2333353733
                        ],
                        "iteration": 190,
                        "passed_time": 120.1462597,
                        "remaining_time": 68.56514298,
                        "test": [
                          0.9057530153,
                          0.2155676712
                        ]
                      },
                      {
                        "learn": [
                          0.8957453104,
                          0.2333032442
                        ],
                        "iteration": 191,
                        "passed_time": 120.7469804,
                        "remaining_time": 67.92017647,
                        "test": [
                          0.9057530153,
                          0.2155605279
                        ]
                      },
                      {
                        "learn": [
                          0.895779582,
                          0.2332549089
                        ],
                        "iteration": 192,
                        "passed_time": 121.3394811,
                        "remaining_time": 67.27111127,
                        "test": [
                          0.9057530153,
                          0.2155218125
                        ]
                      },
                      {
                        "learn": [
                          0.8957640459,
                          0.2332226993
                        ],
                        "iteration": 193,
                        "passed_time": 121.8787316,
                        "remaining_time": 66.59353376,
                        "test": [
                          0.9057530153,
                          0.2154790742
                        ]
                      },
                      {
                        "learn": [
                          0.8957665132,
                          0.2331113136
                        ],
                        "iteration": 194,
                        "passed_time": 122.5483156,
                        "remaining_time": 65.98755456,
                        "test": [
                          0.9060631939,
                          0.2153149567
                        ]
                      },
                      {
                        "learn": [
                          0.8957820489,
                          0.2330569125
                        ],
                        "iteration": 195,
                        "passed_time": 123.1314392,
                        "remaining_time": 65.33504938,
                        "test": [
                          0.9060631939,
                          0.21529336
                        ]
                      },
                      {
                        "learn": [
                          0.8958000497,
                          0.232958345
                        ],
                        "iteration": 196,
                        "passed_time": 123.7483532,
                        "remaining_time": 64.70091566,
                        "test": [
                          0.9057731299,
                          0.2152518473
                        ]
                      },
                      {
                        "learn": [
                          0.895860453,
                          0.23288285
                        ],
                        "iteration": 197,
                        "passed_time": 124.3627575,
                        "remaining_time": 64.06566296,
                        "test": [
                          0.9055597055,
                          0.2152384391
                        ]
                      },
                      {
                        "learn": [
                          0.8959003977,
                          0.2328193164
                        ],
                        "iteration": 198,
                        "passed_time": 124.993824,
                        "remaining_time": 63.43907648,
                        "test": [
                          0.9057932359,
                          0.215192722
                        ]
                      },
                      {
                        "learn": [
                          0.8958579882,
                          0.232785287
                        ],
                        "iteration": 199,
                        "passed_time": 125.5599989,
                        "remaining_time": 62.77999946,
                        "test": [
                          0.9059099637,
                          0.2152091784
                        ]
                      },
                      {
                        "learn": [
                          0.8959371339,
                          0.2327276829
                        ],
                        "iteration": 200,
                        "passed_time": 126.1106141,
                        "remaining_time": 62.11418307,
                        "test": [
                          0.9059300341,
                          0.2151638228
                        ]
                      },
                      {
                        "learn": [
                          0.8960473373,
                          0.2325813409
                        ],
                        "iteration": 201,
                        "passed_time": 126.7092157,
                        "remaining_time": 61.4727878,
                        "test": [
                          0.9062599979,
                          0.2151665292
                        ]
                      },
                      {
                        "learn": [
                          0.8960049228,
                          0.2324722372
                        ],
                        "iteration": 202,
                        "passed_time": 127.3145066,
                        "remaining_time": 60.83501056,
                        "test": [
                          0.9064533333,
                          0.2150549059
                        ]
                      },
                      {
                        "learn": [
                          0.8960995929,
                          0.232409183
                        ],
                        "iteration": 203,
                        "passed_time": 127.9447891,
                        "remaining_time": 60.20931254,
                        "test": [
                          0.906550032,
                          0.2149892317
                        ]
                      },
                      {
                        "learn": [
                          0.8961175733,
                          0.2323304237
                        ],
                        "iteration": 204,
                        "passed_time": 128.4984742,
                        "remaining_time": 59.54807343,
                        "test": [
                          0.9063566553,
                          0.2149591486
                        ]
                      },
                      {
                        "learn": [
                          0.8960507324,
                          0.2322335826
                        ],
                        "iteration": 205,
                        "passed_time": 129.1889061,
                        "remaining_time": 58.95027754,
                        "test": [
                          0.9063366759,
                          0.2148885786
                        ]
                      },
                      {
                        "learn": [
                          0.8960295301,
                          0.2320999195
                        ],
                        "iteration": 206,
                        "passed_time": 129.8155023,
                        "remaining_time": 58.32290682,
                        "test": [
                          0.9064333725,
                          0.2148688435
                        ]
                      },
                      {
                        "learn": [
                          0.8960768539,
                          0.2320416395
                        ],
                        "iteration": 207,
                        "passed_time": 130.3445918,
                        "remaining_time": 57.65241561,
                        "test": [
                          0.90624,
                          0.2148445586
                        ]
                      },
                      {
                        "learn": [
                          0.8960849966,
                          0.2319614742
                        ],
                        "iteration": 208,
                        "passed_time": 130.9225254,
                        "remaining_time": 57.00454456,
                        "test": [
                          0.9063566553,
                          0.2148363791
                        ]
                      },
                      {
                        "learn": [
                          0.8961347799,
                          0.2319139519
                        ],
                        "iteration": 209,
                        "passed_time": 131.521339,
                        "remaining_time": 56.36628814,
                        "test": [
                          0.90624,
                          0.2148728251
                        ]
                      },
                      {
                        "learn": [
                          0.8961012838,
                          0.231807666
                        ],
                        "iteration": 210,
                        "passed_time": 132.1023614,
                        "remaining_time": 55.72090124,
                        "test": [
                          0.9062199936,
                          0.2149133991
                        ]
                      },
                      {
                        "learn": [
                          0.8962065457,
                          0.2317391443
                        ],
                        "iteration": 211,
                        "passed_time": 132.7399722,
                        "remaining_time": 55.09961112,
                        "test": [
                          0.906316688,
                          0.2148690748
                        ]
                      },
                      {
                        "learn": [
                          0.896198398,
                          0.2316461749
                        ],
                        "iteration": 212,
                        "passed_time": 133.2630193,
                        "remaining_time": 54.43137406,
                        "test": [
                          0.9061999787,
                          0.2147879662
                        ]
                      },
                      {
                        "learn": [
                          0.8962228428,
                          0.2315267208
                        ],
                        "iteration": 213,
                        "passed_time": 133.9185467,
                        "remaining_time": 53.81773374,
                        "test": [
                          0.9060832444,
                          0.214722692
                        ]
                      },
                      {
                        "learn": [
                          0.8962391423,
                          0.231491224
                        ],
                        "iteration": 214,
                        "passed_time": 134.5328865,
                        "remaining_time": 53.18742025,
                        "test": [
                          0.9060832444,
                          0.2147246454
                        ]
                      },
                      {
                        "learn": [
                          0.8963158455,
                          0.2313347849
                        ],
                        "iteration": 215,
                        "passed_time": 135.1920622,
                        "remaining_time": 52.57469087,
                        "test": [
                          0.9059664852,
                          0.2146913935
                        ]
                      },
                      {
                        "learn": [
                          0.8964284869,
                          0.2312027093
                        ],
                        "iteration": 216,
                        "passed_time": 135.809823,
                        "remaining_time": 51.94569266,
                        "test": [
                          0.9060832444,
                          0.2145880886
                        ]
                      },
                      {
                        "learn": [
                          0.8965631509,
                          0.231062443
                        ],
                        "iteration": 217,
                        "passed_time": 136.4983536,
                        "remaining_time": 51.34341741,
                        "test": [
                          0.9061799552,
                          0.214454128
                        ]
                      },
                      {
                        "learn": [
                          0.8966717167,
                          0.2309610484
                        ],
                        "iteration": 218,
                        "passed_time": 137.1069872,
                        "remaining_time": 50.71080348,
                        "test": [
                          0.9060431347,
                          0.2144094325
                        ]
                      },
                      {
                        "learn": [
                          0.8966880519,
                          0.2309030568
                        ],
                        "iteration": 219,
                        "passed_time": 137.6776214,
                        "remaining_time": 50.06458961,
                        "test": [
                          0.9062566731,
                          0.2143778997
                        ]
                      },
                      {
                        "learn": [
                          0.8968088632,
                          0.2307922505
                        ],
                        "iteration": 220,
                        "passed_time": 138.2840612,
                        "remaining_time": 49.43185897,
                        "test": [
                          0.9064901793,
                          0.2143639056
                        ]
                      },
                      {
                        "learn": [
                          0.8967378439,
                          0.2307628991
                        ],
                        "iteration": 221,
                        "passed_time": 138.84266,
                        "remaining_time": 48.78255621,
                        "test": [
                          0.9065101387,
                          0.2143634384
                        ]
                      },
                      {
                        "learn": [
                          0.8967794624,
                          0.2307214954
                        ],
                        "iteration": 222,
                        "passed_time": 139.945171,
                        "remaining_time": 48.32187517,
                        "test": [
                          0.9064134031,
                          0.214365903
                        ]
                      },
                      {
                        "learn": [
                          0.8968513258,
                          0.2306402094
                        ],
                        "iteration": 223,
                        "passed_time": 140.486039,
                        "remaining_time": 47.6649061,
                        "test": [
                          0.9061032864,
                          0.2142716959
                        ]
                      },
                      {
                        "learn": [
                          0.8968856165,
                          0.230564703
                        ],
                        "iteration": 224,
                        "passed_time": 141.1038898,
                        "remaining_time": 47.03462995,
                        "test": [
                          0.9060066147,
                          0.2142923459
                        ]
                      },
                      {
                        "learn": [
                          0.8969794527,
                          0.2303973701
                        ],
                        "iteration": 225,
                        "passed_time": 141.5931936,
                        "remaining_time": 46.36237314,
                        "test": [
                          0.9060066147,
                          0.2141614208
                        ]
                      },
                      {
                        "learn": [
                          0.8970276637,
                          0.2303368908
                        ],
                        "iteration": 226,
                        "passed_time": 142.1520619,
                        "remaining_time": 45.7140992,
                        "test": [
                          0.9060066147,
                          0.214117324
                        ]
                      },
                      {
                        "learn": [
                          0.8970856318,
                          0.2302384558
                        ],
                        "iteration": 227,
                        "passed_time": 142.7816396,
                        "remaining_time": 45.08893883,
                        "test": [
                          0.9058898848,
                          0.2141536512
                        ]
                      },
                      {
                        "learn": [
                          0.8971354167,
                          0.2300847959
                        ],
                        "iteration": 228,
                        "passed_time": 143.2289901,
                        "remaining_time": 44.40724147,
                        "test": [
                          0.9058697972,
                          0.2141145042
                        ]
                      },
                      {
                        "learn": [
                          0.8970382822,
                          0.2299638333
                        ],
                        "iteration": 229,
                        "passed_time": 143.8723217,
                        "remaining_time": 43.78722833,
                        "test": [
                          0.9061599231,
                          0.2141021529
                        ]
                      },
                      {
                        "learn": [
                          0.8971754623,
                          0.229921328
                        ],
                        "iteration": 230,
                        "passed_time": 144.4636451,
                        "remaining_time": 43.15147841,
                        "test": [
                          0.9059664852,
                          0.2140674228
                        ]
                      },
                      {
                        "learn": [
                          0.8971705931,
                          0.229833468
                        ],
                        "iteration": 231,
                        "passed_time": 145.0404793,
                        "remaining_time": 42.51186462,
                        "test": [
                          0.9061799552,
                          0.2140595411
                        ]
                      },
                      {
                        "learn": [
                          0.8972449475,
                          0.2297176259
                        ],
                        "iteration": 232,
                        "passed_time": 145.5938241,
                        "remaining_time": 41.86603524,
                        "test": [
                          0.9059464076,
                          0.2140066921
                        ]
                      },
                      {
                        "learn": [
                          0.8972792498,
                          0.2296266364
                        ],
                        "iteration": 233,
                        "passed_time": 146.2931693,
                        "remaining_time": 41.26217595,
                        "test": [
                          0.9059464076,
                          0.2139561325
                        ]
                      }
                    ],
                    "meta": {
                      "test_sets": [
                        "test"
                      ],
                      "test_metrics": [
                        {
                          "best_value": "Max",
                          "name": "F1"
                        },
                        {
                          "best_value": "Min",
                          "name": "Logloss"
                        }
                      ],
                      "learn_metrics": [
                        {
                          "best_value": "Max",
                          "name": "F1"
                        },
                        {
                          "best_value": "Min",
                          "name": "Logloss"
                        }
                      ],
                      "launch_mode": "Train",
                      "parameters": "",
                      "iteration_count": 300,
                      "learn_sets": [
                        "learn"
                      ],
                      "name": "experiment"
                    }
                  }
                }
              }
            },
            "layout": "IPY_MODEL_f9e4b4c8c0d44293b2daa7ff640d1721"
          }
        }
      }
    }
  },
  "nbformat": 4,
  "nbformat_minor": 0
}